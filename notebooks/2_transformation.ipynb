{
 "cells": [
  {
   "cell_type": "code",
   "execution_count": 1,
   "id": "cefb213f",
   "metadata": {},
   "outputs": [],
   "source": [
    "import findspark\n",
    "findspark.init()"
   ]
  },
  {
   "cell_type": "code",
   "execution_count": 2,
   "id": "8c556b09",
   "metadata": {},
   "outputs": [],
   "source": [
    "# PySpark is the Spark API for Python. In this lab, we use PySpark to initialize the spark context. \n",
    "from pyspark import SparkContext, SparkConf\n",
    "from pyspark.sql import SparkSession\n",
    "from pyspark.sql import SQLContext\n",
    "from pyspark.sql import functions as F\n",
    "from pyspark.sql.types import StructType,StructField, StringType, IntegerType, FloatType, BinaryType, DateType\n"
   ]
  },
  {
   "cell_type": "code",
   "execution_count": 3,
   "id": "c2a07d31",
   "metadata": {},
   "outputs": [],
   "source": [
    "# Criar o contexto do spark\n",
    "sc = SparkContext()\n",
    "\n",
    "# Instancia o criador de sessao do spark\n",
    "spark = (SparkSession.builder\n",
    "                     .master(\"local[7]\")\n",
    "                     .appName(\"Aceleração PySpark - Capgemini\"))"
   ]
  },
  {
   "cell_type": "code",
   "execution_count": 4,
   "id": "dd5fa50f",
   "metadata": {},
   "outputs": [],
   "source": [
    "schema_airports = StructType([\n",
    "    StructField(\"faa\",  StringType(),  True),\n",
    "    StructField(\"name\", StringType(),  True),\n",
    "    StructField(\"lat\",  FloatType(),   True),\n",
    "    StructField(\"lon\",  FloatType(),   True),\n",
    "    StructField(\"alt\",  IntegerType(), True),\n",
    "    StructField(\"tz\",   FloatType(), True),\n",
    "    StructField(\"dst\",  StringType(),  True),\n",
    "    StructField(\"qa_faa\",  StringType(),  True),\n",
    "    StructField(\"qa_name\",  StringType(),  True),\n",
    "    StructField(\"qa_lat\",  StringType(),  True),\n",
    "    StructField(\"qa_lon\",  StringType(),  True),\n",
    "    StructField(\"qa_alt\",  StringType(),  True),\n",
    "    StructField(\"qa_tz\",  StringType(),  True),\n",
    "    StructField(\"qa_dst\",  StringType(),  True)\n",
    "])\n",
    "\n",
    "schema_planes = StructType([\n",
    "    StructField(\"tailnum\",      StringType(),  True),\n",
    "    StructField(\"year\",         IntegerType(), True),\n",
    "    StructField(\"type\",         StringType(),  True),\n",
    "    StructField(\"manufacturer\", StringType(),  True),\n",
    "    StructField(\"model\",        StringType(),  True),\n",
    "    StructField(\"engines\",      IntegerType(), True),\n",
    "    StructField(\"seats\",        IntegerType(), True),\n",
    "    StructField(\"speed\",        IntegerType(), True),\n",
    "    StructField(\"engine\",       StringType(),  True),\n",
    "    StructField(\"qa_tailnum\",  StringType(),  True),\n",
    "    StructField(\"qa_year\",  StringType(),  True),\n",
    "    StructField(\"qa_type\",  StringType(),  True),\n",
    "    StructField(\"qa_manufacturer\",  StringType(),  True),\n",
    "    StructField(\"qa_model\",  StringType(),  True),\n",
    "    StructField(\"qa_engines\",  StringType(),  True),\n",
    "    StructField(\"qa_seats\",  StringType(),  True),\n",
    "    StructField(\"qa_speed\",  StringType(),  True),\n",
    "    StructField(\"qa_enginge\",  StringType(),  True)  \n",
    "])\n",
    "\n",
    "schema_flights = StructType([\n",
    "    StructField(\"year\",      IntegerType(), True),\n",
    "    StructField(\"month\",     IntegerType(), True),\n",
    "    StructField(\"day\",       IntegerType(), True),\n",
    "    StructField(\"dep_time\",  StringType(),  True),\n",
    "    StructField(\"dep_delay\", IntegerType(), True),\n",
    "    StructField(\"arr_time\",  StringType(),  True),\n",
    "    StructField(\"arr_delay\", IntegerType(), True),\n",
    "    StructField(\"carrier\",   StringType(),  True),\n",
    "    StructField(\"tailnum\",   StringType(),  True),\n",
    "    StructField(\"flight\",    StringType(),  True),\n",
    "    StructField(\"origin\",    StringType(),  True),\n",
    "    StructField(\"dest\",      StringType(),  True),\n",
    "    StructField(\"air_time\",  IntegerType(), True),\n",
    "    StructField(\"distance\",  IntegerType(), True),\n",
    "    StructField(\"hour\",      IntegerType(), True),\n",
    "    StructField(\"minute\",    IntegerType(), True),\n",
    "    StructField(\"qa_year_month_day\",    StringType(), True),\n",
    "    StructField(\"qa_hour_minute\",    StringType(), True),\n",
    "    StructField(\"qa_dep_arr_time\",    StringType(), True),\n",
    "    StructField(\"qa_dep_arr_delay\",    StringType(), True),\n",
    "    StructField(\"qa_carrier\",    StringType(), True),\n",
    "    StructField(\"qa_tailnum\",    StringType(), True),\n",
    "    StructField(\"qa_flight\",    StringType(), True),\n",
    "    StructField(\"qa_origin_dest\",    StringType(), True),\n",
    "    StructField(\"qa_air_time\",    StringType(), True),\n",
    "    StructField(\"qa_distance\",    StringType(), True),\n",
    "    StructField(\"qa_distance_airtime\",    StringType(), True)\n",
    "])"
   ]
  },
  {
   "cell_type": "code",
   "execution_count": 4,
   "id": "3ba72774",
   "metadata": {},
   "outputs": [],
   "source": [
    "airports_path_data = '../data/qa_airports.parquet'\n",
    "planes_path_data   = '../data/qa_planes.parquet'\n",
    "flights_path_data  = '../data/qa_flights.parquet'\n",
    "\n",
    "\n",
    "airports = (spark.getOrCreate().read\n",
    "                  .format(\"parquet\")\n",
    "                  .option(\"header\", \"true\")\n",
    "#                  .schema(schema_airports)\n",
    "                  .load(airports_path_data))\n",
    "\n",
    "planes   = (spark.getOrCreate().read\n",
    "                  .format(\"parquet\")\n",
    "                  .option(\"header\", \"true\")\n",
    "                  .load(planes_path_data))\n",
    "\n",
    "flights  = (spark.getOrCreate().read\n",
    "                  .format(\"parquet\")\n",
    "                  .option(\"header\", \"true\")\n",
    "#                  .schema(schema_flights)\n",
    "                  .load(flights_path_data))"
   ]
  },
  {
   "cell_type": "code",
   "execution_count": 5,
   "id": "4987f4a9",
   "metadata": {},
   "outputs": [],
   "source": [
    "airports.createOrReplaceTempView('airports')\n",
    "planes.createOrReplaceTempView('planes')\n",
    "flights.createOrReplaceTempView('flights')"
   ]
  },
  {
   "cell_type": "code",
   "execution_count": 6,
   "id": "7f33d791",
   "metadata": {},
   "outputs": [],
   "source": [
    "planes = planes.withColumn('year',(\n",
    "                    planes.year.cast(IntegerType())\n",
    ")).withColumn('engines',(\n",
    "                    planes.engines.cast(IntegerType())\n",
    ")).withColumn('seats',(\n",
    "                    planes.seats.cast(IntegerType())\n",
    ")).withColumn('speed',(\n",
    "                    planes.speed.cast(IntegerType())\n",
    "))"
   ]
  },
  {
   "cell_type": "code",
   "execution_count": 7,
   "id": "1277d539",
   "metadata": {},
   "outputs": [
    {
     "name": "stdout",
     "output_type": "stream",
     "text": [
      "+-------+----+--------------------+----------------+--------+-------+-----+-----+---------+----------+-------+-------+---------------+--------+----------+--------+--------+----------+\n",
      "|tailnum|year|                type|    manufacturer|   model|engines|seats|speed|  enginge|qa_tailnum|qa_year|qa_type|qa_manufacturer|qa_model|qa_engines|qa_seats|qa_speed|qa_enginge|\n",
      "+-------+----+--------------------+----------------+--------+-------+-----+-----+---------+----------+-------+-------+---------------+--------+----------+--------+--------+----------+\n",
      "| N102UW|1998|Fixed wing multi ...|AIRBUS INDUSTRIE|A320-214|      2|  182| null|Turbo-fan|      null|   null|   null|              C|    null|      null|    null|       M|      null|\n",
      "+-------+----+--------------------+----------------+--------+-------+-----+-----+---------+----------+-------+-------+---------------+--------+----------+--------+--------+----------+\n",
      "only showing top 1 row\n",
      "\n"
     ]
    }
   ],
   "source": [
    "planes.show(1)"
   ]
  },
  {
   "cell_type": "code",
   "execution_count": 8,
   "id": "4f0dc66e",
   "metadata": {},
   "outputs": [],
   "source": [
    "def higher_than(col, condition):\n",
    "    return (F.col(col) > condition )\n",
    "\n",
    "def between(col, lower_condition, higher_condition):\n",
    "    return ( F.col(col).between(lower_condition, higher_condition) )\n",
    "\n",
    "def lower_than(col, condition):\n",
    "    return (F.col(col) < condition )\n",
    "\n",
    "def equal(col, condition):\n",
    "    return (F.col(col) == condition )"
   ]
  },
  {
   "cell_type": "markdown",
   "id": "e5a160e6",
   "metadata": {},
   "source": [
    "## Airports Dataset "
   ]
  },
  {
   "cell_type": "code",
   "execution_count": 9,
   "id": "4e07800b",
   "metadata": {},
   "outputs": [],
   "source": [
    "airports_path_data = '../data/airports.csv'\n",
    "\n",
    "\n",
    "#Schema\n",
    "airports_schema = (StructType([ \n",
    "    StructField(\"faa\",StringType(),True), \n",
    "    StructField(\"name\",StringType(),True), \n",
    "    StructField(\"lat\",FloatType(),True), \n",
    "    StructField(\"lon\", FloatType(), True), \n",
    "    StructField(\"alt\", IntegerType(), True), \n",
    "    StructField(\"tz\", FloatType(), True),\n",
    "    StructField(\"dst\", StringType(), True )\n",
    "                    ])\n",
    "         )\n",
    "\n",
    "#DataFrame\n",
    "airports = spark.getOrCreate().read.csv(airports_path_data, header = True, schema = airports_schema)\n"
   ]
  },
  {
   "cell_type": "code",
   "execution_count": 62,
   "id": "07601987",
   "metadata": {},
   "outputs": [
    {
     "name": "stdout",
     "output_type": "stream",
     "text": [
      "+---+--------------------+---------+---------+----+----+---+\n",
      "|faa|                name|      lat|      lon| alt|  tz|dst|\n",
      "+---+--------------------+---------+---------+----+----+---+\n",
      "|04G|   Lansdowne Airport|41.130474|-80.61958|1044|-5.0|  A|\n",
      "|06A|Moton Field Munic...| 32.46057|-85.68003| 264|-5.0|  A|\n",
      "|06C| Schaumburg Regional| 41.98934|-88.10124| 801|-6.0|  A|\n",
      "|06N|     Randall Airport| 41.43191|-74.39156| 523|-5.0|  A|\n",
      "|09J|Jekyll Island Air...|31.074472|-81.42778|  11|-4.0|  A|\n",
      "+---+--------------------+---------+---------+----+----+---+\n",
      "only showing top 5 rows\n",
      "\n"
     ]
    }
   ],
   "source": [
    "airports.show(5)"
   ]
  },
  {
   "cell_type": "code",
   "execution_count": 63,
   "id": "7c1485d5",
   "metadata": {},
   "outputs": [
    {
     "name": "stdout",
     "output_type": "stream",
     "text": [
      "root\n",
      " |-- faa: string (nullable = true)\n",
      " |-- name: string (nullable = true)\n",
      " |-- lat: float (nullable = true)\n",
      " |-- lon: float (nullable = true)\n",
      " |-- alt: integer (nullable = true)\n",
      " |-- tz: float (nullable = true)\n",
      " |-- dst: string (nullable = true)\n",
      "\n"
     ]
    }
   ],
   "source": [
    "airports.printSchema()"
   ]
  },
  {
   "cell_type": "markdown",
   "id": "16050a5e",
   "metadata": {},
   "source": [
    "### Pergunta 1"
   ]
  },
  {
   "cell_type": "code",
   "execution_count": 10,
   "id": "dadf6720",
   "metadata": {},
   "outputs": [],
   "source": [
    "airports = airports.withColumn('alt', (\n",
    "                 F.when(lower_than('alt', 0), 0 )\n",
    "                 .otherwise(F.col('alt'))\n",
    "))"
   ]
  },
  {
   "cell_type": "code",
   "execution_count": 11,
   "id": "d74427ef",
   "metadata": {},
   "outputs": [
    {
     "name": "stdout",
     "output_type": "stream",
     "text": [
      "+---+----+---+---+---+---+---+\n",
      "|faa|name|lat|lon|alt| tz|dst|\n",
      "+---+----+---+---+---+---+---+\n",
      "+---+----+---+---+---+---+---+\n",
      "\n"
     ]
    }
   ],
   "source": [
    "airports.where(airports.alt < 0).show()"
   ]
  },
  {
   "cell_type": "markdown",
   "id": "86632049",
   "metadata": {},
   "source": [
    "### Pergunta 2"
   ]
  },
  {
   "cell_type": "code",
   "execution_count": 12,
   "id": "61515a92",
   "metadata": {},
   "outputs": [],
   "source": [
    "airports = airports.withColumn('dst', (\n",
    "                    F.when( (airports.tz >= -7) &\n",
    "                            (airports.tz <= -5)\n",
    "                            ,'A')\n",
    "                    .otherwise(F.col('dst'))\n",
    "))"
   ]
  },
  {
   "cell_type": "code",
   "execution_count": 13,
   "id": "704dd00c",
   "metadata": {},
   "outputs": [],
   "source": [
    "#airports.where((airports.tz == -5)).show(5)"
   ]
  },
  {
   "cell_type": "markdown",
   "id": "53a3d267",
   "metadata": {},
   "source": [
    "### Pergunta 3"
   ]
  },
  {
   "cell_type": "code",
   "execution_count": 14,
   "id": "39b3293c",
   "metadata": {},
   "outputs": [
    {
     "name": "stdout",
     "output_type": "stream",
     "text": [
      "+---+----+---+---+---+---+---+\n",
      "|faa|name|lat|lon|alt| tz|dst|\n",
      "+---+----+---+---+---+---+---+\n",
      "+---+----+---+---+---+---+---+\n",
      "\n"
     ]
    }
   ],
   "source": [
    "airports = airports.withColumn('dst',(\n",
    "                    F.when(equal('dst', 'U'), 'A')\n",
    "                    .otherwise(F.col('dst'))\n",
    "))\n",
    "\n",
    "airports.where(airports.dst == 'U').show()"
   ]
  },
  {
   "cell_type": "markdown",
   "id": "831e719a",
   "metadata": {},
   "source": [
    "### Pergunta 4"
   ]
  },
  {
   "cell_type": "code",
   "execution_count": 15,
   "id": "9368c5fa",
   "metadata": {},
   "outputs": [
    {
     "name": "stdout",
     "output_type": "stream",
     "text": [
      "+---+----+---+---+---+---+---+------+\n",
      "|faa|name|lat|lon|alt| tz|dst|region|\n",
      "+---+----+---+---+---+---+---+------+\n",
      "+---+----+---+---+---+---+---+------+\n",
      "\n"
     ]
    }
   ],
   "source": [
    "airports = airports.withColumn('region', (\n",
    "                    F.when(lower_than('lon', -124), 'ALASKA')\n",
    "                     .when(higher_than('lon', -50) | lower_than('lat',  24), 'OFFSHORE')\n",
    "                     .when(lower_than('lon', -95) | equal('lon', -95), 'MAINLAND-WEST')\n",
    "                     .when(higher_than('lon', -95), 'MAINLAND-EAST')\n",
    "                     .otherwise(None)\n",
    "))\n",
    "\n",
    "airports.where((airports.lon.between(-124, -50)) &\n",
    "               (airports.region != 'MAINLAND-WEST') &\n",
    "               (airports.region != 'MAINLAND-EAST')).show()"
   ]
  },
  {
   "cell_type": "markdown",
   "id": "9d990e82",
   "metadata": {},
   "source": [
    "### Pergunta 5"
   ]
  },
  {
   "cell_type": "code",
   "execution_count": 16,
   "id": "4f77305b",
   "metadata": {},
   "outputs": [
    {
     "name": "stdout",
     "output_type": "stream",
     "text": [
      "+---+----+---+---+---+---+---+------+----+\n",
      "|faa|name|lat|lon|alt| tz|dst|region|type|\n",
      "+---+----+---+---+---+---+---+------+----+\n",
      "+---+----+---+---+---+---+---+------+----+\n",
      "\n"
     ]
    }
   ],
   "source": [
    "airports = airports.withColumn('type',(\n",
    "                    F.when(F.col('name').rlike('Airport|Tradeport|Heliport|Airpor|Arpt' ), 'AP')\n",
    "                     .when(F.col('name').rlike('Aerodrome'), 'AD')\n",
    "                     .when(F.col('name').rlike('Airpark|Aero Park' ), 'AK')\n",
    "                     .when(F.col('name').rlike('Station|Air Station'), 'AS')\n",
    "                     .when(F.col('name').rlike('Field|Fld'), 'FL')\n",
    "                     .otherwise(None)\n",
    "))\n",
    "\n",
    "airports.where((F.col('type') != 'AP') &\n",
    "              (F.col('type') != 'AD') &\n",
    "              (F.col('type') != 'AK') &\n",
    "              (F.col('type') != 'AS') &\n",
    "              (F.col('type') != 'FL') \n",
    "             ).show()"
   ]
  },
  {
   "cell_type": "markdown",
   "id": "bca0f9a0",
   "metadata": {},
   "source": [
    "### Pergunta 6"
   ]
  },
  {
   "cell_type": "code",
   "execution_count": 17,
   "id": "8d862298",
   "metadata": {},
   "outputs": [
    {
     "name": "stdout",
     "output_type": "stream",
     "text": [
      "160\n",
      "1237\n"
     ]
    }
   ],
   "source": [
    "#string_military = \"Base\", \"Aaf\", \"AFs\", \"Ahp\", \"Afb\", \"LRRS\", \"Lrrs\", \"Arb\", \"Naf\", \"NAS\", \"Nas\", \"Jrb\", \"Ns\", \"As\", \"Cgas\", \"Angb\"\n",
    "string_military2 = [\"Base\", \"Aaf\", \"AFs\", \"Ahp\", \"Afb\", \"LRRS\", \"Lrrs\", \"Arb\", \"Naf\", \"NAS\", \"Nas\", \"Jrb\", \"Ns\",\n",
    "\"As\", \"Cgas\", \"Angb\"]\n",
    "\n",
    "#regex_string_military = ''\n",
    "#regex_string_military = r'|'.join(map(lambda x : f\".*(^| ){x}($| ).*\", string_military))\n",
    "\n",
    "regex_string_military2 = ''\n",
    "regex_string_military2 = r'|'.join(map(lambda x : f\".*(^| ){x}($| ).*\", string_military2))\n",
    "\n",
    "\n",
    "airports = airports.withColumn('military',(\n",
    "                    F.when(F.col('name').rlike(regex_string_military2), True)\n",
    "                    .otherwise(False)\n",
    "))\n",
    "\n",
    "#airports.filter(airports.military == False).show(5, truncate =False)\n",
    "\n",
    "print(airports.where(F.col('military') == True).count())\n",
    "print(airports.where(F.col('military') == False).count())"
   ]
  },
  {
   "cell_type": "markdown",
   "id": "2eb2d506",
   "metadata": {},
   "source": [
    "### Pergunta 7"
   ]
  },
  {
   "cell_type": "code",
   "execution_count": 18,
   "id": "2f1b73d7",
   "metadata": {
    "scrolled": true
   },
   "outputs": [
    {
     "name": "stdout",
     "output_type": "stream",
     "text": [
      "+---+--------------------+---------+----------+----+----+---+-------------+----+--------+--------------+\n",
      "|faa|                name|      lat|       lon| alt|  tz|dst|       region|type|military|administration|\n",
      "+---+--------------------+---------+----------+----+----+---+-------------+----+--------+--------------+\n",
      "|04G|   Lansdowne Airport|41.130474| -80.61958|1044|-5.0|  A|MAINLAND-EAST|  AP|   false|          null|\n",
      "|06N|     Randall Airport| 41.43191| -74.39156| 523|-5.0|  A|MAINLAND-EAST|  AP|   false|          null|\n",
      "|09J|Jekyll Island Air...|31.074472| -81.42778|  11|-4.0|  A|MAINLAND-EAST|  AP|   false|          null|\n",
      "|0P2|Shoestring Aviati...|39.794823|-76.647194|1000|-5.0|  A|MAINLAND-EAST|null|   false|          null|\n",
      "|10C|  Galt Field Airport| 42.40289|-88.375114| 875|-6.0|  A|MAINLAND-EAST|  AP|   false|          null|\n",
      "|1A3|Martin Campbell F...|35.015804| -84.34683|1789|-4.0|  A|MAINLAND-EAST|  AP|   false|          null|\n",
      "|1C9|Frazier Lake Airpark|54.013332|-124.76833| 152|-8.0|  A|       ALASKA|  AK|   false|          null|\n",
      "|1G3|  Kent State Airport| 41.15139| -81.41511|1134|-4.0|  A|MAINLAND-EAST|  AP|   false|          null|\n",
      "|1OH|     Fortman Airport|40.555325| -84.38662| 885|-5.0|  A|MAINLAND-EAST|  AP|   false|          null|\n",
      "|1RL|Point Roberts Air...| 48.97972|-123.07889|  10|-7.0|  A|MAINLAND-WEST|  AK|   false|          null|\n",
      "+---+--------------------+---------+----------+----+----+---+-------------+----+--------+--------------+\n",
      "only showing top 10 rows\n",
      "\n"
     ]
    }
   ],
   "source": [
    "airports = airports.withColumn('administration',(\n",
    "                    F.when(F.col('name').rlike('International|Intl|Intercontinental'), 'I')\n",
    "                    .when(F.col('name').rlike('National|Natl'), 'N')\n",
    "                    .when(F.col('name').rlike('Regional|Reigonal|Rgnl|County|Metro|Metropolitan'), 'R')\n",
    "                    .when(F.col('name').rlike('Municipal|Muni|City'), 'I')\n",
    "))\n",
    "\n",
    "airports.where(airports.administration.isNull()).show(10)"
   ]
  },
  {
   "cell_type": "code",
   "execution_count": 19,
   "id": "b3d0086d",
   "metadata": {},
   "outputs": [],
   "source": [
    "airports.write.mode('overwrite').parquet('../data/datasets_transformados/airports.parquet')"
   ]
  },
  {
   "cell_type": "markdown",
   "id": "e9bb193a",
   "metadata": {},
   "source": [
    "## Planes Dataset"
   ]
  },
  {
   "cell_type": "raw",
   "id": "0b809ec9",
   "metadata": {},
   "source": [
    "path_data_planes = '../data/planes.csv'\n",
    "\n",
    "#Schema\n",
    "schema = (StructType([ \n",
    "    StructField(\"tailnum\",StringType(),True), \n",
    "    StructField(\"year\",IntegerType(),True), \n",
    "    StructField(\"type\",StringType(),True), \n",
    "    StructField(\"manufacturer\", StringType(), True), \n",
    "    StructField(\"model\", StringType(), True), \n",
    "    StructField(\"engines\", IntegerType(), True),\n",
    "    StructField(\"seats\", IntegerType(), True ),\n",
    "    StructField(\"speed\", IntegerType(), True),\n",
    "    StructField(\"enginge\", StringType(), True)\n",
    "                    ])\n",
    "         )\n",
    "\n",
    "#DataFrame\n",
    "planes = spark.getOrCreate().read.csv(path_data_planes, header = True, schema = schema)"
   ]
  },
  {
   "cell_type": "markdown",
   "id": "817e2a69",
   "metadata": {},
   "source": [
    "### Pergunta 1"
   ]
  },
  {
   "cell_type": "code",
   "execution_count": 10,
   "id": "f0ba0fb0",
   "metadata": {},
   "outputs": [],
   "source": [
    "planes = planes.withColumn('tailchar',(\n",
    "                 F.regexp_replace(F.substring(F.col('tailnum'), 2 , 6), '[0-9]', '')\n",
    "))"
   ]
  },
  {
   "cell_type": "markdown",
   "id": "cc06e4d3",
   "metadata": {},
   "source": [
    "### Pergunta 2"
   ]
  },
  {
   "cell_type": "code",
   "execution_count": 11,
   "id": "d0a337c4",
   "metadata": {},
   "outputs": [],
   "source": [
    "planes = planes.withColumn('year',(\n",
    "                 F.when(F.col('year') == 0, 1996 )\n",
    "                 .otherwise(F.col('year'))\n",
    "))"
   ]
  },
  {
   "cell_type": "markdown",
   "id": "b598ad23",
   "metadata": {},
   "source": [
    "### Pergunta 3"
   ]
  },
  {
   "cell_type": "code",
   "execution_count": 12,
   "id": "7ecf92e7",
   "metadata": {
    "scrolled": true
   },
   "outputs": [
    {
     "name": "stdout",
     "output_type": "stream",
     "text": [
      "(2628, 19)\n"
     ]
    }
   ],
   "source": [
    "planes.sort('manufacturer', 'model', 'year')\n",
    "print((planes.count(), len(planes.columns)))\n"
   ]
  },
  {
   "cell_type": "code",
   "execution_count": 13,
   "id": "07fbcd2a",
   "metadata": {},
   "outputs": [],
   "source": [
    "#planes = planes.withColumn('manufacturer_model_year',(\n",
    "#                 F.concat_ws('-', planes.manufacturer, planes.model, planes.year)\n",
    "#))"
   ]
  },
  {
   "cell_type": "code",
   "execution_count": 14,
   "id": "3062ed61",
   "metadata": {},
   "outputs": [],
   "source": [
    "aux_planes = planes.select('manufacturer', 'model', 'year').where(planes.year.isNotNull())\n",
    "aux_planes = (aux_planes.withColumnRenamed('manufacturer', 'aux_manufacturer')\n",
    "                        .withColumnRenamed('model', 'aux_model')\n",
    "                        .withColumnRenamed('year', 'aux_year'))\n",
    "\n",
    "aux_planes2 = planes.select('manufacturer', 'year').where(planes.year.isNotNull())\n",
    "aux_planes2 = (aux_planes2.withColumnRenamed('manufacturer', 'aux_manufacturer')\n",
    "                        .withColumnRenamed('year', 'aux_year'))"
   ]
  },
  {
   "cell_type": "code",
   "execution_count": 15,
   "id": "67a727b3",
   "metadata": {},
   "outputs": [],
   "source": [
    "aux_planes = (aux_planes.groupBy('aux_manufacturer', 'aux_model')\n",
    "                        .agg({'aux_year':'min',})\n",
    "                        .withColumnRenamed('min(aux_year)', 'aux_year'))\n",
    "\n",
    "aux_planes2 = (aux_planes2.groupBy('aux_manufacturer')\n",
    "                          .agg({'aux_year':'min',})\n",
    "                          .withColumnRenamed('min(aux_year)', 'aux_year'))"
   ]
  },
  {
   "cell_type": "code",
   "execution_count": 16,
   "id": "fdabad05",
   "metadata": {},
   "outputs": [
    {
     "ename": "NameError",
     "evalue": "name 'joined_planes' is not defined",
     "output_type": "error",
     "traceback": [
      "\u001b[1;31m---------------------------------------------------------------------------\u001b[0m",
      "\u001b[1;31mNameError\u001b[0m                                 Traceback (most recent call last)",
      "\u001b[1;32m~\\AppData\\Local\\Temp/ipykernel_18832/3498142841.py\u001b[0m in \u001b[0;36m<module>\u001b[1;34m\u001b[0m\n\u001b[1;32m----> 1\u001b[1;33m \u001b[0mprint\u001b[0m\u001b[1;33m(\u001b[0m\u001b[1;33m(\u001b[0m\u001b[0mjoined_planes\u001b[0m\u001b[1;33m.\u001b[0m\u001b[0mcount\u001b[0m\u001b[1;33m(\u001b[0m\u001b[1;33m)\u001b[0m\u001b[1;33m,\u001b[0m \u001b[0mlen\u001b[0m\u001b[1;33m(\u001b[0m\u001b[0mjoined_planes\u001b[0m\u001b[1;33m.\u001b[0m\u001b[0mcolumns\u001b[0m\u001b[1;33m)\u001b[0m\u001b[1;33m)\u001b[0m\u001b[1;33m)\u001b[0m\u001b[1;33m\u001b[0m\u001b[1;33m\u001b[0m\u001b[0m\n\u001b[0m",
      "\u001b[1;31mNameError\u001b[0m: name 'joined_planes' is not defined"
     ]
    }
   ],
   "source": [
    "print((joined_planes.count(), len(joined_planes.columns)))"
   ]
  },
  {
   "cell_type": "code",
   "execution_count": 17,
   "id": "d126900e",
   "metadata": {},
   "outputs": [],
   "source": [
    "joined_planes = planes.join(aux_planes, \n",
    "            (planes.manufacturer == aux_planes.aux_manufacturer) &\n",
    "            (planes.model == aux_planes.aux_model),\n",
    "            'left'\n",
    ")\n",
    "\n",
    "joined_planes = joined_planes.withColumn('year',(\n",
    "                        F.when((joined_planes.year.isNull()) &\n",
    "                               (joined_planes.aux_year.isNotNull()), joined_planes.aux_year\n",
    "                              )\n",
    "                         .otherwise(joined_planes.year)\n",
    "))\n",
    "\n",
    "joined_planes = joined_planes.drop('aux_manufacturer', 'aux_model', 'aux_year')\n",
    "\n"
   ]
  },
  {
   "cell_type": "code",
   "execution_count": 18,
   "id": "6df1482c",
   "metadata": {},
   "outputs": [],
   "source": [
    "joined_planes = joined_planes.join(aux_planes2, \n",
    "            (joined_planes.manufacturer == aux_planes2.aux_manufacturer),\n",
    "            'left'\n",
    ")\n",
    "\n",
    "joined_planes = joined_planes.withColumn('year',(\n",
    "                        F.when((joined_planes.year.isNull()) &\n",
    "                               (joined_planes.aux_year.isNotNull()), joined_planes.aux_year\n",
    "                              )\n",
    "                         .otherwise(joined_planes.year)\n",
    "))\n",
    "\n",
    "planes = joined_planes"
   ]
  },
  {
   "cell_type": "markdown",
   "id": "cdff1ad1",
   "metadata": {},
   "source": [
    "### Pergunta 4"
   ]
  },
  {
   "cell_type": "code",
   "execution_count": 19,
   "id": "1b847164",
   "metadata": {},
   "outputs": [],
   "source": [
    "planes = planes.withColumn('age',(\n",
    "                 F.when(planes.year.isNotNull(), 2022 - planes.year )\n",
    "                 .otherwise(None)\n",
    "                 ))"
   ]
  },
  {
   "cell_type": "markdown",
   "id": "3dcf3bfc",
   "metadata": {},
   "source": [
    "### Pergunta 5"
   ]
  },
  {
   "cell_type": "code",
   "execution_count": 20,
   "id": "b317ea0b",
   "metadata": {},
   "outputs": [],
   "source": [
    "planes = planes.withColumn('type',(\n",
    "                 F.when(planes.type == 'Fixed wing multi engine', 'MULTI_ENG')\n",
    "                 .when(planes.type == 'Fixed Wing single engine', 'SINGLE_ENG')\n",
    "                 .when(planes.type == 'Rotorcraft', 'ROTORCRAFT')\n",
    "))"
   ]
  },
  {
   "cell_type": "markdown",
   "id": "d667b537",
   "metadata": {},
   "source": [
    "### Pergunta 6"
   ]
  },
  {
   "cell_type": "code",
   "execution_count": 21,
   "id": "13a782fc",
   "metadata": {},
   "outputs": [
    {
     "name": "stdout",
     "output_type": "stream",
     "text": [
      "+-----------------------------+\n",
      "|manufacturer                 |\n",
      "+-----------------------------+\n",
      "|AIRBUS                       |\n",
      "|AIRBUS INDUSTRIE             |\n",
      "|BARKER JACK L                |\n",
      "|BELL                         |\n",
      "|BOEING                       |\n",
      "|BOMBARDIER INC               |\n",
      "|CANADAIR                     |\n",
      "|CESSNA                       |\n",
      "|CIRRUS DESIGN CORP           |\n",
      "|EMBRAER                      |\n",
      "|GULFSTREAM AEROSPACE         |\n",
      "|KILDALL GARY                 |\n",
      "|LAMBERT RICHARD              |\n",
      "|MARZ BARRY                   |\n",
      "|MCDONNELL DOUGLAS            |\n",
      "|MCDONNELL DOUGLAS AIRCRAFT CO|\n",
      "|PIPER                        |\n",
      "|ROBINSON HELICOPTER CO       |\n",
      "|SIKORSKY                     |\n",
      "+-----------------------------+\n",
      "\n"
     ]
    }
   ],
   "source": [
    "planes.select('manufacturer').distinct().sort('manufacturer').show(truncate = False)"
   ]
  },
  {
   "cell_type": "code",
   "execution_count": 22,
   "id": "a91f1906",
   "metadata": {},
   "outputs": [],
   "source": [
    "planes = planes.withColumn('manufacturer',(\n",
    "                 F.when(planes.manufacturer.startswith('AIRBUS'), 'AIRBUS')\n",
    "                  .when(planes.manufacturer.startswith('BOMBARDIER'), 'BOMBARDIER')\n",
    "                  .when(planes.manufacturer.startswith('MCDONNELL'), 'MCDONNELL DOUGLAS')\n",
    "                  .when(planes.manufacturer.startswith('CIRRUS'), 'CIRRUS')\n",
    "                  .when(planes.manufacturer.startswith('BARKER'), 'BARKER JACK')\n",
    "                  .when(planes.manufacturer.startswith('ROBINSON'), 'ROBINSON HELICOPTER')\n",
    "                  .when(planes.manufacturer.startswith('GULFSTREAM'), 'GULFSTREAM')\n",
    "                  .otherwise(planes.manufacturer)\n",
    "))"
   ]
  },
  {
   "cell_type": "markdown",
   "id": "4ad7867b",
   "metadata": {},
   "source": [
    "### Pergunta 7"
   ]
  },
  {
   "cell_type": "code",
   "execution_count": 23,
   "id": "3fc39c63",
   "metadata": {},
   "outputs": [
    {
     "name": "stdout",
     "output_type": "stream",
     "text": [
      "+----------+\n",
      "|model     |\n",
      "+----------+\n",
      "|150       |\n",
      "|172M      |\n",
      "|206B      |\n",
      "|210-5(205)|\n",
      "|421C      |\n",
      "|737-301   |\n",
      "|737-3A4   |\n",
      "|737-3G7   |\n",
      "|737-3H4   |\n",
      "|737-3K2   |\n",
      "|737-3L9   |\n",
      "|737-3Q8   |\n",
      "|737-3T5   |\n",
      "|737-3TO   |\n",
      "|737-3Y0   |\n",
      "|737-490   |\n",
      "|737-4Q8   |\n",
      "|737-4S3   |\n",
      "|737-5H4   |\n",
      "|737-705   |\n",
      "+----------+\n",
      "only showing top 20 rows\n",
      "\n"
     ]
    }
   ],
   "source": [
    "planes.select('model').distinct().sort('model').show(truncate = False)"
   ]
  },
  {
   "cell_type": "code",
   "execution_count": 24,
   "id": "3ede1b1b",
   "metadata": {},
   "outputs": [],
   "source": [
    "planes = planes.withColumn('model',(\n",
    "                    F.when( planes.model.contains(\"(\"), F.regexp_replace(planes.model, '\\([^()]*\\)', '' ))\n",
    "                    .otherwise(planes.model)\n",
    "))\n",
    "planes = planes.withColumn('model',(\n",
    "            F.trim(planes.model)\n",
    "))"
   ]
  },
  {
   "cell_type": "code",
   "execution_count": 25,
   "id": "9a0192e9",
   "metadata": {},
   "outputs": [
    {
     "name": "stdout",
     "output_type": "stream",
     "text": [
      "+-----+\n",
      "|model|\n",
      "+-----+\n",
      "|150  |\n",
      "|172M |\n",
      "|206B |\n",
      "|210-5|\n",
      "|421C |\n",
      "+-----+\n",
      "only showing top 5 rows\n",
      "\n"
     ]
    }
   ],
   "source": [
    "planes.select('model').distinct().sort('model').show(5,truncate = False)"
   ]
  },
  {
   "cell_type": "markdown",
   "id": "53238887",
   "metadata": {},
   "source": [
    "### Pergunta 8"
   ]
  },
  {
   "cell_type": "code",
   "execution_count": 26,
   "id": "b91d85c9",
   "metadata": {},
   "outputs": [
    {
     "name": "stdout",
     "output_type": "stream",
     "text": [
      "+-------+----+---------+------------+--------+-------+-----+-----+---------+----------+-------+-------+---------------+--------+----------+--------+--------+----------+--------+----------------+--------+----+\n",
      "|tailnum|year|     type|manufacturer|   model|engines|seats|speed|  enginge|qa_tailnum|qa_year|qa_type|qa_manufacturer|qa_model|qa_engines|qa_seats|qa_speed|qa_enginge|tailchar|aux_manufacturer|aux_year| age|\n",
      "+-------+----+---------+------------+--------+-------+-----+-----+---------+----------+-------+-------+---------------+--------+----------+--------+--------+----------+--------+----------------+--------+----+\n",
      "| N102UW|1998|MULTI_ENG|      AIRBUS|A320-214|      2|  182| null|Turbo-fan|      null|   null|   null|           null|    null|      null|    null|       M|      null|      UW|AIRBUS INDUSTRIE|    1989|24.0|\n",
      "+-------+----+---------+------------+--------+-------+-----+-----+---------+----------+-------+-------+---------------+--------+----------+--------+--------+----------+--------+----------------+--------+----+\n",
      "only showing top 1 row\n",
      "\n"
     ]
    }
   ],
   "source": [
    "planes.show(1)"
   ]
  },
  {
   "cell_type": "code",
   "execution_count": 27,
   "id": "2059d20b",
   "metadata": {},
   "outputs": [
    {
     "name": "stdout",
     "output_type": "stream",
     "text": [
      "+-------+----+----+------------+-----+-------+-----+-----+-------+----------+-------+-------+---------------+--------+----------+--------+--------+----------+--------+----------------+--------+---+\n",
      "|tailnum|year|type|manufacturer|model|engines|seats|speed|enginge|qa_tailnum|qa_year|qa_type|qa_manufacturer|qa_model|qa_engines|qa_seats|qa_speed|qa_enginge|tailchar|aux_manufacturer|aux_year|age|\n",
      "+-------+----+----+------------+-----+-------+-----+-----+-------+----------+-------+-------+---------------+--------+----------+--------+--------+----------+--------+----------------+--------+---+\n",
      "+-------+----+----+------------+-----+-------+-----+-----+-------+----------+-------+-------+---------------+--------+----------+--------+--------+----------+--------+----------------+--------+---+\n",
      "\n"
     ]
    }
   ],
   "source": [
    "planes = planes.withColumn('speed', (\n",
    "                            F.when(planes.speed.isNull(), F.ceil((planes.seats)/(0.36)))\n",
    "                            .otherwise(planes.speed)\n",
    "))\n",
    "planes.where(planes.speed.isNull()).show()\n",
    "\n",
    "##verificar se está no intervalo possível do dataframe"
   ]
  },
  {
   "cell_type": "markdown",
   "id": "14da1371",
   "metadata": {},
   "source": [
    "### Pergunta 9"
   ]
  },
  {
   "cell_type": "code",
   "execution_count": 28,
   "id": "776f17d9",
   "metadata": {},
   "outputs": [
    {
     "name": "stdout",
     "output_type": "stream",
     "text": [
      "+-------------+\n",
      "|      enginge|\n",
      "+-------------+\n",
      "|    Turbo-jet|\n",
      "|      4 Cycle|\n",
      "|    Turbo-fan|\n",
      "|   Turbo-prop|\n",
      "|Reciprocating|\n",
      "|  Turbo-shaft|\n",
      "+-------------+\n",
      "\n",
      "+------------+\n",
      "|engine_split|\n",
      "+------------+\n",
      "|        null|\n",
      "|         jet|\n",
      "|       shaft|\n",
      "|         fan|\n",
      "|        prop|\n",
      "+------------+\n",
      "\n"
     ]
    }
   ],
   "source": [
    "planes.select('enginge').distinct().show()\n",
    "planes = planes.withColumn('engine_split',(\n",
    "                 F.split(planes.enginge, '-')[1]\n",
    "))\n",
    "\n",
    "planes.select('engine_split').distinct().show()"
   ]
  },
  {
   "cell_type": "code",
   "execution_count": 29,
   "id": "05acea22",
   "metadata": {},
   "outputs": [
    {
     "name": "stdout",
     "output_type": "stream",
     "text": [
      "+-------------+-------------+\n",
      "|      enginge|  engine_type|\n",
      "+-------------+-------------+\n",
      "|  Turbo-shaft|        SHAFT|\n",
      "|Reciprocating|Reciprocating|\n",
      "|    Turbo-fan|          FAN|\n",
      "|      4 Cycle|        CYCLE|\n",
      "|   Turbo-prop|         PROP|\n",
      "|    Turbo-jet|          JET|\n",
      "+-------------+-------------+\n",
      "\n"
     ]
    }
   ],
   "source": [
    "planes = planes.withColumn('engine_type',(\n",
    "                    F.when(planes.engine_split == 'jet', 'JET')\n",
    "                    .when(planes.engine_split  == 'fan', 'FAN')\n",
    "                    .when(planes.engine_split  == 'prop', 'PROP')\n",
    "                    .when(planes.engine_split  == 'shaft', 'SHAFT')\n",
    "                    .when(planes.enginge.endswith('Cycle'), 'CYCLE')\n",
    "                    .otherwise(planes.enginge)\n",
    "))\n",
    "\n",
    "planes = planes.drop('engine_split')\n",
    "planes.select('enginge', 'engine_type').distinct().show()"
   ]
  },
  {
   "cell_type": "code",
   "execution_count": 30,
   "id": "cfa59646",
   "metadata": {},
   "outputs": [],
   "source": [
    "planes.write.mode('overwrite').parquet('../data/datasets_transformados/planes.parquet')"
   ]
  },
  {
   "cell_type": "markdown",
   "id": "b93f1d8e",
   "metadata": {},
   "source": [
    "## Flights Dataset"
   ]
  },
  {
   "cell_type": "code",
   "execution_count": 31,
   "id": "6a36f742",
   "metadata": {},
   "outputs": [],
   "source": [
    "flights_schema = (StructType([ \n",
    "    StructField(\"year\",IntegerType(),True), \n",
    "    StructField(\"month\",IntegerType(),True), \n",
    "    StructField(\"day\",IntegerType(),True), \n",
    "    StructField(\"dep_time\", StringType(), True), \n",
    "    StructField(\"dep_delay\", IntegerType(), True), \n",
    "    StructField(\"arr_time\", StringType(), True),\n",
    "    StructField(\"arr_delay\", IntegerType(), True ),\n",
    "    StructField(\"carrier\", StringType(), True),\n",
    "    StructField(\"tailnum\", StringType(), True),\n",
    "    StructField(\"flight\", StringType(), True),\n",
    "    StructField(\"origin\", StringType(), True),\n",
    "    StructField(\"dest\", StringType(), True),\n",
    "    StructField(\"air_time\", IntegerType(), True),\n",
    "    StructField(\"distance\", IntegerType(), True),\n",
    "    StructField(\"hour\", IntegerType(), True),\n",
    "    StructField(\"minute\", IntegerType(), True)\n",
    "                    ])\n",
    "                 )\n",
    "\n",
    "flights = spark.getOrCreate().read.csv('../data/flights.csv', schema = flights_schema, header = True)"
   ]
  },
  {
   "cell_type": "code",
   "execution_count": 32,
   "id": "f56d023c",
   "metadata": {},
   "outputs": [
    {
     "name": "stdout",
     "output_type": "stream",
     "text": [
      "+----+-----+---+--------+---------+--------+---------+-------+-------+------+------+----+--------+--------+----+------+\n",
      "|year|month|day|dep_time|dep_delay|arr_time|arr_delay|carrier|tailnum|flight|origin|dest|air_time|distance|hour|minute|\n",
      "+----+-----+---+--------+---------+--------+---------+-------+-------+------+------+----+--------+--------+----+------+\n",
      "|2014|   12|  8|     658|       -7|     935|       -5|     VX| N846VA|  1780|   SEA| LAX|     132|     954|   6|    58|\n",
      "|2014|    1| 22|    1040|        5|    1505|        5|     AS| N559AS|   851|   SEA| HNL|     360|    2677|  10|    40|\n",
      "|2014|    3|  9|    1443|       -2|    1652|        2|     VX| N847VA|   755|   SEA| SFO|     111|     679|  14|    43|\n",
      "|2014|    4|  9|    1705|       45|    1839|       34|     WN| N360SW|   344|   PDX| SJC|      83|     569|  17|     5|\n",
      "|2014|    3|  9|     754|       -1|    1015|        1|     AS| N612AS|   522|   SEA| BUR|     127|     937|   7|    54|\n",
      "+----+-----+---+--------+---------+--------+---------+-------+-------+------+------+----+--------+--------+----+------+\n",
      "only showing top 5 rows\n",
      "\n",
      "10000\n"
     ]
    }
   ],
   "source": [
    "flights.show(5)\n",
    "print(flights.count())"
   ]
  },
  {
   "cell_type": "markdown",
   "id": "89bedbc6",
   "metadata": {},
   "source": [
    "### Pergunta 1"
   ]
  },
  {
   "cell_type": "code",
   "execution_count": 33,
   "id": "59c106c3",
   "metadata": {},
   "outputs": [],
   "source": [
    "flights = flights.withColumn('hour',(\n",
    "                    F.when(flights.hour.isNull(), 0)\n",
    "                    .otherwise(flights.hour)\n",
    "))\n",
    "\n",
    "flights = flights.withColumn('minute',(\n",
    "                    F.when(flights.minute.isNull(), 0)\n",
    "                    .otherwise(flights.minute)\n",
    "))"
   ]
  },
  {
   "cell_type": "markdown",
   "id": "38e6c090",
   "metadata": {},
   "source": [
    "### Pergunta 2"
   ]
  },
  {
   "cell_type": "code",
   "execution_count": 34,
   "id": "cccb8d37",
   "metadata": {},
   "outputs": [],
   "source": [
    "flights = flights.withColumn('hour',(\n",
    "                    F.when(flights.hour == 24, 0)\n",
    "                    .otherwise(flights.hour)\n",
    "))"
   ]
  },
  {
   "cell_type": "markdown",
   "id": "3d1f158c",
   "metadata": {},
   "source": [
    "### Pergunta 3"
   ]
  },
  {
   "cell_type": "raw",
   "id": "b9c0293c",
   "metadata": {},
   "source": [
    "flights = flights.withColumn('dep_datetime',(\n",
    "                    F.date_format(F.concat_ws(' ', F.concat_ws('-', flights.year, flights.month, flights.day),\n",
    "                                                    F.concat_ws(':', flights.hour, flights.minute)       \n",
    "                                              ), ('yyyy-MM-dd hh:mm:00')\n",
    "                                 )\n",
    "))\n",
    "\n",
    "flights = flights.withColumn('dep_datetime',(\n",
    "                    F.to_timestamp( flights.dep_datetime, 'yyyy-MM-dd hh:mm:ss')\n",
    "))"
   ]
  },
  {
   "cell_type": "code",
   "execution_count": 35,
   "id": "d9253e58",
   "metadata": {},
   "outputs": [],
   "source": [
    "flights = flights.withColumn('dep_datetime', \n",
    "                    F.to_timestamp( F.concat_ws(' ', F.concat_ws('-', flights.year, flights.month, flights.day),\n",
    "                                                     F.concat_ws(':', flights.hour, flights.minute, F.lit(00))       \n",
    "                                               )\n",
    "                                  )\n",
    ")\n"
   ]
  },
  {
   "cell_type": "code",
   "execution_count": 36,
   "id": "c85a5cbd",
   "metadata": {},
   "outputs": [
    {
     "name": "stdout",
     "output_type": "stream",
     "text": [
      "+-------------------+\n",
      "|       dep_datetime|\n",
      "+-------------------+\n",
      "|2014-12-08 06:58:00|\n",
      "|2014-01-22 10:40:00|\n",
      "|2014-03-09 14:43:00|\n",
      "|2014-04-09 17:05:00|\n",
      "|2014-03-09 07:54:00|\n",
      "+-------------------+\n",
      "only showing top 5 rows\n",
      "\n"
     ]
    }
   ],
   "source": [
    "flights.select('dep_datetime').show(5)"
   ]
  },
  {
   "cell_type": "raw",
   "id": "cd3e0dcc",
   "metadata": {},
   "source": [
    "flights = flights.withColumn('month',(\n",
    "                    F.when(F.length(flights.month) == 1, F.concat_ws('', F.lit('0'), flights.month))\n",
    "                    .otherwise(flights.month)\n",
    "))\n",
    "\n",
    "flights = flights.withColumn('day',(\n",
    "                    F.when(F.length(flights.day) == 1, F.concat_ws('', F.lit('0'), flights.day))\n",
    "                    .otherwise(flights.day)\n",
    "))\n",
    "\n",
    "flights = flights.withColumn('hour',(\n",
    "                    F.when(F.length(flights.hour) == 1, F.concat_ws('', F.lit('0'), flights.hour))\n",
    "                    .otherwise(flights.hour)\n",
    "))\n",
    "\n",
    "flights = flights.withColumn('minute',(\n",
    "                    F.when(F.length(flights.minute) == 1, F.concat_ws('', F.lit('0'), flights.minute))\n",
    "                    .otherwise(flights.minute)\n",
    "))"
   ]
  },
  {
   "cell_type": "raw",
   "id": "da391496",
   "metadata": {},
   "source": [
    "flights = flights.withColumn('aux_date',(\n",
    "                   F.concat_ws('-', flights.year, flights.month, flights.day) \n",
    "))\n",
    "\n",
    "flights = flights.withColumn('aux_hour',(\n",
    "                    F.concat_ws(':', flights.hour, flights.minute, F.lit('00'))\n",
    "))\n",
    "\n",
    "flights = flights.withColumn('dep_datetime',(\n",
    "                    F.concat_ws(' ', flights.aux_date, flights.aux_hour)\n",
    "))\n",
    "\n",
    "flights = flights.drop('aux_date', 'aux_hour')\n",
    "#flights.select('aux_date', 'aux_hour', 'dep_datetime').show(5)\n",
    "\n",
    "flights.select('dep_datetime').show(5)"
   ]
  },
  {
   "cell_type": "markdown",
   "id": "127365a3",
   "metadata": {},
   "source": [
    "### Pergunta 4"
   ]
  },
  {
   "cell_type": "code",
   "execution_count": 37,
   "id": "cf07d46d",
   "metadata": {},
   "outputs": [
    {
     "name": "stdout",
     "output_type": "stream",
     "text": [
      "+----+-----+---+--------+---------+--------+---------+-------+-------+------+------+----+--------+--------+----+------+-------------------+\n",
      "|year|month|day|dep_time|dep_delay|arr_time|arr_delay|carrier|tailnum|flight|origin|dest|air_time|distance|hour|minute|       dep_datetime|\n",
      "+----+-----+---+--------+---------+--------+---------+-------+-------+------+------+----+--------+--------+----+------+-------------------+\n",
      "|2014|   12|  8|     658|       -7|     935|       -5|     VX| N846VA|  1780|   SEA| LAX|     132|     954|   6|    58|2014-12-08 06:58:00|\n",
      "|2014|    1| 22|    1040|        5|    1505|        5|     AS| N559AS|   851|   SEA| HNL|     360|    2677|  10|    40|2014-01-22 10:40:00|\n",
      "+----+-----+---+--------+---------+--------+---------+-------+-------+------+------+----+--------+--------+----+------+-------------------+\n",
      "only showing top 2 rows\n",
      "\n"
     ]
    }
   ],
   "source": [
    "flights.show(2)"
   ]
  },
  {
   "cell_type": "code",
   "execution_count": 38,
   "id": "ab3b8f66",
   "metadata": {},
   "outputs": [
    {
     "name": "stdout",
     "output_type": "stream",
     "text": [
      "+--------+\n",
      "|dep_time|\n",
      "+--------+\n",
      "|     658|\n",
      "|    1040|\n",
      "|    1443|\n",
      "|    1705|\n",
      "|     754|\n",
      "+--------+\n",
      "only showing top 5 rows\n",
      "\n"
     ]
    }
   ],
   "source": [
    "#flights.where(flights.dep_time == 'NA').show(5)\n",
    "\n",
    "flights = flights.withColumn('dep_time',(\n",
    "                    F.when(flights.dep_time == 'NA', F.concat_ws('',F.substring(flights.dep_datetime, 12,2), \n",
    "                                                                    F.substring(flights.dep_datetime, 14,2)))\n",
    "                      .otherwise(flights.dep_time)\n",
    "))\n",
    "\n",
    "flights.select('dep_time').show(5)"
   ]
  },
  {
   "cell_type": "markdown",
   "id": "686df96c",
   "metadata": {},
   "source": [
    "### Pergunta 5 e 6"
   ]
  },
  {
   "cell_type": "code",
   "execution_count": 39,
   "id": "830d31a5",
   "metadata": {},
   "outputs": [],
   "source": [
    "flights = flights.withColumn('dep_delay',(\n",
    "                    F.when(flights.dep_delay.isNull(), 0)\n",
    "                    .otherwise(flights.dep_delay)\n",
    "))\n",
    "\n",
    "flights = flights.withColumn('arr_delay',(\n",
    "                    F.when(flights.arr_delay.isNull(), 0)\n",
    "                    .otherwise(flights.arr_delay)\n",
    "))"
   ]
  },
  {
   "cell_type": "markdown",
   "id": "76c9fb13",
   "metadata": {},
   "source": [
    "### Pergunta 7"
   ]
  },
  {
   "cell_type": "code",
   "execution_count": 40,
   "id": "7be4fd12",
   "metadata": {},
   "outputs": [],
   "source": [
    "flights = flights.drop('year', 'month', 'day', 'hour', 'minute')"
   ]
  },
  {
   "cell_type": "markdown",
   "id": "21141920",
   "metadata": {},
   "source": [
    "### Pergunta 8"
   ]
  },
  {
   "cell_type": "code",
   "execution_count": 41,
   "id": "2adeae9b",
   "metadata": {},
   "outputs": [],
   "source": [
    "flights = flights.withColumn('air_time_projected',(\n",
    "                    F.round((flights.distance * 0.1) + 20, 2)\n",
    "))\n",
    "\n",
    "flights = flights.withColumn('air_time_projected',(\n",
    "                    flights.air_time_projected.cast(IntegerType())\n",
    "))\n"
   ]
  },
  {
   "cell_type": "markdown",
   "id": "8e2a087d",
   "metadata": {},
   "source": [
    "### Pergunta 9\n",
    "#### Montar parecido com a ideia do exercicio 3 planes "
   ]
  },
  {
   "cell_type": "code",
   "execution_count": 42,
   "id": "d4292a43",
   "metadata": {},
   "outputs": [],
   "source": [
    "flights = flights.withColumn('aux_origin_dest',(\n",
    "                    F.concat_ws('-', flights.origin, flights.dest)\n",
    "))"
   ]
  },
  {
   "cell_type": "code",
   "execution_count": 43,
   "id": "64a2fd1e",
   "metadata": {},
   "outputs": [],
   "source": [
    "groupby_aux_origin_dest = (flights.groupBy('aux_origin_dest')\n",
    "                                  .agg({'air_time': 'avg'})\n",
    "                                  .withColumnRenamed('avg(air_time)', 'air_time_expected')\n",
    "                                  .withColumnRenamed('aux_origin_dest', 'aux_origin_dest1')\n",
    "                          )"
   ]
  },
  {
   "cell_type": "code",
   "execution_count": 44,
   "id": "714507fc",
   "metadata": {},
   "outputs": [],
   "source": [
    "flights = flights.join(groupby_aux_origin_dest,\n",
    "             flights.aux_origin_dest == groupby_aux_origin_dest.aux_origin_dest1,\n",
    "             'left'\n",
    "            )\n",
    "\n",
    "flights = flights.drop('aux_origin_dest1')\n",
    "flights = flights.withColumn('air_time_expected',(\n",
    "                            F.ceil(flights.air_time_expected)\n",
    "))"
   ]
  },
  {
   "cell_type": "code",
   "execution_count": 45,
   "id": "6769d8d4",
   "metadata": {},
   "outputs": [
    {
     "name": "stdout",
     "output_type": "stream",
     "text": [
      "+--------+---------+--------+---------+-------+-------+------+------+----+--------+--------+-------------------+------------------+---------------+-----------------+\n",
      "|dep_time|dep_delay|arr_time|arr_delay|carrier|tailnum|flight|origin|dest|air_time|distance|       dep_datetime|air_time_projected|aux_origin_dest|air_time_expected|\n",
      "+--------+---------+--------+---------+-------+-------+------+------+----+--------+--------+-------------------+------------------+---------------+-----------------+\n",
      "|    1033|       -2|    1411|       -4|     WN| N628SW|  1069|   PDX| ABQ|     143|    1111|2014-08-11 10:33:00|               131|        PDX-ABQ|              137|\n",
      "|    1521|        6|    1852|       -3|     WN| N207WN|   747|   PDX| ABQ|     137|    1111|2014-06-13 15:21:00|               131|        PDX-ABQ|              137|\n",
      "|     946|        1|    1317|       -8|     WN| N904WN|  2043|   PDX| ABQ|     137|    1111|2014-09-14 09:46:00|               131|        PDX-ABQ|              137|\n",
      "+--------+---------+--------+---------+-------+-------+------+------+----+--------+--------+-------------------+------------------+---------------+-----------------+\n",
      "only showing top 3 rows\n",
      "\n"
     ]
    }
   ],
   "source": [
    "flights.sort(flights.aux_origin_dest).show(3)"
   ]
  },
  {
   "cell_type": "markdown",
   "id": "6ac7ee3a",
   "metadata": {},
   "source": [
    "### Pergunta 10"
   ]
  },
  {
   "cell_type": "code",
   "execution_count": 46,
   "id": "e61818fe",
   "metadata": {},
   "outputs": [],
   "source": [
    "flights = flights.withColumn('air_time',(\n",
    "                        F.when(flights.air_time.isNull(), F.greatest('air_time_projected', 'air_time_expected'))\n",
    "                         .otherwise(flights.air_time)\n",
    "))\n",
    "\n",
    "\n",
    "flights = flights.withColumn('air_time',( \n",
    "                  flights.air_time.cast(IntegerType())          \n",
    "))\n"
   ]
  },
  {
   "cell_type": "markdown",
   "id": "356f980c",
   "metadata": {},
   "source": [
    "### Pergunta 11"
   ]
  },
  {
   "cell_type": "code",
   "execution_count": 47,
   "id": "08c4f92d",
   "metadata": {},
   "outputs": [
    {
     "name": "stdout",
     "output_type": "stream",
     "text": [
      "+--------+---------+--------+---------+-------+-------+------+------+----+--------+--------+-------------------+------------------+---------------+-----------------+\n",
      "|dep_time|dep_delay|arr_time|arr_delay|carrier|tailnum|flight|origin|dest|air_time|distance|       dep_datetime|air_time_projected|aux_origin_dest|air_time_expected|\n",
      "+--------+---------+--------+---------+-------+-------+------+------+----+--------+--------+-------------------+------------------+---------------+-----------------+\n",
      "|     658|       -7|     935|       -5|     VX| N846VA|  1780|   SEA| LAX|     132|     954|2014-12-08 06:58:00|               115|        SEA-LAX|              127|\n",
      "|    1040|        5|    1505|        5|     AS| N559AS|   851|   SEA| HNL|     360|    2677|2014-01-22 10:40:00|               287|        SEA-HNL|              344|\n",
      "|    1443|       -2|    1652|        2|     VX| N847VA|   755|   SEA| SFO|     111|     679|2014-03-09 14:43:00|                87|        SEA-SFO|              102|\n",
      "|    1705|       45|    1839|       34|     WN| N360SW|   344|   PDX| SJC|      83|     569|2014-04-09 17:05:00|                76|        PDX-SJC|               86|\n",
      "|     754|       -1|    1015|        1|     AS| N612AS|   522|   SEA| BUR|     127|     937|2014-03-09 07:54:00|               113|        SEA-BUR|              123|\n",
      "+--------+---------+--------+---------+-------+-------+------+------+----+--------+--------+-------------------+------------------+---------------+-----------------+\n",
      "only showing top 5 rows\n",
      "\n"
     ]
    }
   ],
   "source": [
    "flights = flights.withColumn('arr_time',(\n",
    "                    F.when(flights.arr_time.isNull(), flights.dep_time + flights.air_time)\n",
    "                    .otherwise(flights.arr_time)\n",
    "))\n",
    "\n",
    "flights.where(flights.arr_time> 60).show(5)"
   ]
  },
  {
   "cell_type": "markdown",
   "id": "f3884e65",
   "metadata": {},
   "source": [
    "### Pergunta 12"
   ]
  },
  {
   "cell_type": "code",
   "execution_count": 48,
   "id": "0883fa3b",
   "metadata": {},
   "outputs": [],
   "source": [
    "flights = flights.withColumn('haul_duration',(\n",
    "                    F.when((flights.air_time >= 20) &\n",
    "                           (flights.air_time < 180),\n",
    "                           'SHORT-HAUL'\n",
    "                          )\n",
    "                     .when((flights.air_time >= 180) &\n",
    "                           (flights.air_time < 360),\n",
    "                           'MEDIUM-HAUL'\n",
    "                          )\n",
    "                     .when((flights.air_time >= 360), \n",
    "                           'LONG-HAUL'\n",
    "                          )\n",
    "))"
   ]
  },
  {
   "cell_type": "markdown",
   "id": "291161b6",
   "metadata": {},
   "source": [
    "### Pergunta 13"
   ]
  },
  {
   "cell_type": "code",
   "execution_count": 49,
   "id": "792abd75",
   "metadata": {},
   "outputs": [
    {
     "name": "stdout",
     "output_type": "stream",
     "text": [
      "+-------------------+\n",
      "|       dep_datetime|\n",
      "+-------------------+\n",
      "|2014-12-08 06:58:00|\n",
      "|2014-01-22 10:40:00|\n",
      "+-------------------+\n",
      "only showing top 2 rows\n",
      "\n"
     ]
    }
   ],
   "source": [
    "flights.select('dep_datetime').show(2)"
   ]
  },
  {
   "cell_type": "code",
   "execution_count": 50,
   "id": "37f9f537",
   "metadata": {},
   "outputs": [
    {
     "name": "stdout",
     "output_type": "stream",
     "text": [
      "+----------+-----+\n",
      "|dep_season|count|\n",
      "+----------+-----+\n",
      "|    WINTER| 2149|\n",
      "|    SPRING| 2560|\n",
      "|      FALL| 2373|\n",
      "|    SUMMER| 2918|\n",
      "+----------+-----+\n",
      "\n"
     ]
    }
   ],
   "source": [
    "flights = flights.withColumn('dep_season',\n",
    "F.when(F.col('dep_datetime').between(F.concat(F.year('dep_datetime'),F.lit('-03-20 15:33:00')),F.concat(F.year('dep_datetime'),F.lit('-06-21 10:14:00'))), 'SPRING')\n",
    " .when(F.col('dep_datetime').between(F.concat(F.year('dep_datetime'),F.lit('-06-21 10:14:00')),F.concat(F.year('dep_datetime'),F.lit('-09-23 02:04:00'))), 'SUMMER')\n",
    " .when(F.col('dep_datetime').between(F.concat(F.year('dep_datetime'),F.lit('-09-23 02:04:00')),F.concat(F.year('dep_datetime'),F.lit('-12-21 21:48:00'))), 'FALL')\n",
    " .otherwise('WINTER')\n",
    "                                  )\n",
    "\n",
    "\n",
    "flights.select('dep_season').groupBy('dep_season').count().show()\n"
   ]
  },
  {
   "cell_type": "code",
   "execution_count": 51,
   "id": "73528f65",
   "metadata": {},
   "outputs": [],
   "source": [
    "flights = flights.withColumn('dep_delay_category',(\n",
    "                    F.when(flights.dep_delay < 0, 'ANTECIPATED')\n",
    "                     .when(flights.dep_delay == 0, 'INTIME')\n",
    "                     .when((flights.dep_delay > 0) & (flights.dep_delay < 60), 'MINOR')\n",
    "                     .when(flights.dep_delay >= 60, 'MAJOR')\n",
    "))"
   ]
  },
  {
   "cell_type": "code",
   "execution_count": 52,
   "id": "293f5fd7",
   "metadata": {},
   "outputs": [],
   "source": [
    "flights.write.mode('overwrite').parquet('../data/datasets_transformados/flights.parquet')"
   ]
  },
  {
   "cell_type": "code",
   "execution_count": null,
   "id": "75e5556c",
   "metadata": {},
   "outputs": [],
   "source": []
  }
 ],
 "metadata": {
  "kernelspec": {
   "display_name": "Python 3 (ipykernel)",
   "language": "python",
   "name": "python3"
  },
  "language_info": {
   "codemirror_mode": {
    "name": "ipython",
    "version": 3
   },
   "file_extension": ".py",
   "mimetype": "text/x-python",
   "name": "python",
   "nbconvert_exporter": "python",
   "pygments_lexer": "ipython3",
   "version": "3.9.7"
  }
 },
 "nbformat": 4,
 "nbformat_minor": 5
}
