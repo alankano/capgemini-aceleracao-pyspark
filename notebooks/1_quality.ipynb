{
 "cells": [
  {
   "cell_type": "code",
   "execution_count": 17,
   "metadata": {},
   "outputs": [],
   "source": [
    "# Installing required packages\n",
    "#!pip install pyspark\n",
    "#!pip install findspark"
   ]
  },
  {
   "cell_type": "code",
   "execution_count": 1,
   "metadata": {},
   "outputs": [],
   "source": [
    "import findspark\n",
    "findspark.init()"
   ]
  },
  {
   "cell_type": "code",
   "execution_count": 2,
   "metadata": {},
   "outputs": [],
   "source": [
    "# PySpark is the Spark API for Python. In this lab, we use PySpark to initialize the spark context. \n",
    "from pyspark import SparkContext, SparkConf\n",
    "from pyspark.sql import SparkSession\n",
    "from pyspark.sql import SQLContext\n",
    "from pyspark.sql.types import StructType,StructField, StringType, IntegerType, FloatType\n"
   ]
  },
  {
   "cell_type": "code",
   "execution_count": 9,
   "metadata": {},
   "outputs": [],
   "source": [
    "from pyspark.sql.functions import lit, when, length, trim, ltrim, rtrim, col, udf, substring \n",
    "import numpy as np"
   ]
  },
  {
   "cell_type": "code",
   "execution_count": 3,
   "metadata": {},
   "outputs": [],
   "source": [
    "# Creating a spark context class\n",
    "sc = SparkContext()\n",
    "\n",
    "# Creating a spark session\n",
    "spark = (SparkSession.builder \n",
    "                     .appName(\"Python Spark DataFrames basic example\") \n",
    "                     .config(\"spark.some.config.option\", \"some-value\") \n",
    "                     .getOrCreate()\n",
    "        )"
   ]
  },
  {
   "cell_type": "code",
   "execution_count": 4,
   "metadata": {},
   "outputs": [
    {
     "name": "stdout",
     "output_type": "stream",
     "text": [
      "root\n",
      " |-- faa: string (nullable = true)\n",
      " |-- name: string (nullable = true)\n",
      " |-- lat: float (nullable = true)\n",
      " |-- lon: float (nullable = true)\n",
      " |-- alt: integer (nullable = true)\n",
      " |-- tz: float (nullable = true)\n",
      " |-- dst: string (nullable = true)\n",
      "\n"
     ]
    }
   ],
   "source": [
    "# Ler o dataset\n",
    "path_data = '../datasets/airports.csv'\n",
    "#RDD\n",
    "rdd  = spark.sparkContext.wholeTextFiles(path_data)\n",
    "\n",
    "#print(\"initial partition count:\"+str(rdd.getNumPartitions()))\n",
    "\n",
    "#Schema\n",
    "schema = (StructType([ \n",
    "    StructField(\"faa\",StringType(),True), \n",
    "    StructField(\"name\",StringType(),True), \n",
    "    StructField(\"lat\",FloatType(),True), \n",
    "    StructField(\"lon\", FloatType(), True), \n",
    "    StructField(\"alt\", IntegerType(), True), \n",
    "    StructField(\"tz\", FloatType(), True),\n",
    "    StructField(\"dst\", StringType(), True )\n",
    "                    ])\n",
    "         )\n",
    "\n",
    "#DataFrame\n",
    "airports = spark.read.csv(path_data, header = True, schema = schema)\n",
    "\n",
    "airports.printSchema()"
   ]
  },
  {
   "cell_type": "markdown",
   "metadata": {},
   "source": [
    "# Dicionário\n",
    "#### - faa (string): Identificador do aeroporto determinado pela Federal Aviation Administration. Formato: 3-5 caracteres alfanuméricos.\n",
    "#### - name (string): Nome do aeroporto.\n",
    "#### - lat (float): Latitude do aeroporto. Intervalo de valores .\n",
    "#### - lon (float): Longitude do aeroporto Intervalo de valores .\n",
    "#### - alt (int): Altitude do aeroporto. Unidade de medida em pés. Intervalo de valores .\n",
    "#### - tz (float): Fuso horário baseado no deslocamento de horas a partir de UTC/GMT. Intervalo de valores. Pode ser fuso fracionário [1]\n",
    "#### - dst (category): Horário de verão. Descrição dos possíveis valores [2]:\n",
    "     E (Europe)\n",
    "     A (US/Canada)\n",
    "     S (South America)\n",
    "     O (Australia)\n",
    "     Z (New Zealand)\n",
    "     N (None)\n",
    "     U (Unknown)\n"
   ]
  },
  {
   "cell_type": "markdown",
   "metadata": {},
   "source": [
    "## Airport - Perguntas\n"
   ]
  },
  {
   "cell_type": "code",
   "execution_count": null,
   "metadata": {},
   "outputs": [],
   "source": [
    "df.createOrReplaceTempView('airports_table')"
   ]
  },
  {
   "cell_type": "markdown",
   "metadata": {},
   "source": [
    "#### Pergunta 1\n"
   ]
  },
  {
   "cell_type": "code",
   "execution_count": 10,
   "metadata": {},
   "outputs": [
    {
     "name": "stdout",
     "output_type": "stream",
     "text": [
      "+---+--------------------+---------+-----------+----+----+---+------+\n",
      "|faa|                name|      lat|        lon| alt|  tz|dst|qa_faa|\n",
      "+---+--------------------+---------+-----------+----+----+---+------+\n",
      "|2G9|Somerset County A...| 40.03887|  -79.01499|2275|-5.0|  A|  null|\n",
      "|CWI|   Clinton Municipal| 41.83075|  -90.32897| 708|-6.0|  A|     F|\n",
      "|DLL|Baraboo Wisconsin...|43.521786|  -89.77093| 979|-6.0|  A|     F|\n",
      "|INJ|      Hillsboro Muni|32.083485|  -97.09723| 685|-6.0|  A|     F|\n",
      "|IRK|Kirksville Region...|  40.0935|   -92.5449| 966|-6.0|  A|     F|\n",
      "|KCL|Chignik Lagoon Ai...| 56.31111| -158.53416|  25|-9.0|  A|     F|\n",
      "|SEA| Seattle Tacoma Intl|   47.449|  -122.3093| 433|-8.0|  A|     F|\n",
      "|UNK|  Unalakleet Airport|63.888332| -160.79889|  21|-9.0|  A|     F|\n",
      "|55J|Fernandina Beach ...|30.611834|   -81.4612|  16|-4.0|  A|  null|\n",
      "|8M8|     Garland Airport|44.806526|  -84.27619|1218|-5.0|  A|  null|\n",
      "|CZN|     Chisana Airport| 62.07111| -142.04834|1011|-9.0|  A|     F|\n",
      "|ENA|          Kenai Muni|60.573112|   -151.245|  99|-9.0|  A|     F|\n",
      "|RNO|     Reno Tahoe Intl|39.499107|-119.768105|4415|-8.0|  A|     F|\n",
      "|TTD|  Portland Troutdale| 45.54937| -122.40125|  39|-8.0|  A|     F|\n",
      "|TVL|  Lake Tahoe Airport| 38.89389| -119.99528|8544|-8.0|  A|     F|\n",
      "|WMO|White Mountain Ai...| 64.68916| -163.41278| 267|-9.0|  A|     F|\n",
      "|2G2|Jefferson County ...|40.360218| -80.700874|1196|-4.0|  A|  null|\n",
      "|ATT|Camp Mabry Austin...| 30.31666|   -97.7666|   0|-6.0|  A|     F|\n",
      "|IWD|Gogebic Iron Coun...|46.527473|  -90.13139|1230|-6.0|  U|     F|\n",
      "|POE|            Polk Aaf|31.044832| -93.191666| 330|-6.0|  A|     F|\n",
      "+---+--------------------+---------+-----------+----+----+---+------+\n",
      "only showing top 20 rows\n",
      "\n"
     ]
    }
   ],
   "source": [
    "airports.where(length(airports.faa) == 3).distinct().show()"
   ]
  },
  {
   "cell_type": "code",
   "execution_count": 12,
   "metadata": {},
   "outputs": [
    {
     "name": "stdout",
     "output_type": "stream",
     "text": [
      "+------+-----+\n",
      "|qa_faa|count|\n",
      "+------+-----+\n",
      "|  null| 1397|\n",
      "+------+-----+\n",
      "\n"
     ]
    }
   ],
   "source": [
    "airports = airports.withColumn('qa_faa', \n",
    "                        (when((airports.faa == '') | \n",
    "                              (airports.faa.isNull() == True) |\n",
    "                              (airports.faa.rlike('\\t')) |\n",
    "                              (airports.faa.rlike(' +'))\n",
    "                              , lit('M')) \n",
    "                        .when((length(airports.faa) < 3) | \n",
    "                              (length(airports.faa) > 5)  \n",
    "                              , lit('F')) \n",
    "                        )\n",
    "                   )\n",
    "\n",
    "airports.groupBy('qa_faa').count().show()"
   ]
  },
  {
   "cell_type": "markdown",
   "metadata": {},
   "source": [
    "#### Pergunta 2\n"
   ]
  },
  {
   "cell_type": "code",
   "execution_count": 13,
   "metadata": {},
   "outputs": [
    {
     "name": "stdout",
     "output_type": "stream",
     "text": [
      "+---+----+---+---+---+---+---+------+-------+\n",
      "|faa|name|lat|lon|alt| tz|dst|qa_faa|qa_name|\n",
      "+---+----+---+---+---+---+---+------+-------+\n",
      "+---+----+---+---+---+---+---+------+-------+\n",
      "\n"
     ]
    }
   ],
   "source": [
    "airports = airports.withColumn('qa_name', \n",
    "                  (when(airports.name == None  |\n",
    "                       (airports.name == ''), lit('M')\n",
    "                       )\n",
    "                  )\n",
    "             )\n",
    "\n",
    "airports.where(airports.qa_name == 'M').show()"
   ]
  },
  {
   "cell_type": "raw",
   "metadata": {},
   "source": [
    "def udf_qa_name(income_str):\n",
    "    income_str = str(income_str)\n",
    "    if income_str is None or income_str == '':\n",
    "        return 'M'\n",
    "    else: \n",
    "        return None\n",
    "\n",
    "f_qa_name = udf(lambda z: udf_qa_name(z))\n",
    "\n",
    "df.select(col('*'),\n",
    "          f_qa_name(col('name')).alias('qa_name')\n",
    "         ).show()"
   ]
  },
  {
   "cell_type": "markdown",
   "metadata": {},
   "source": [
    "#### Pergunta 3\n"
   ]
  },
  {
   "cell_type": "code",
   "execution_count": 17,
   "metadata": {},
   "outputs": [
    {
     "name": "stdout",
     "output_type": "stream",
     "text": [
      "+------+-----+\n",
      "|qa_lat|count|\n",
      "+------+-----+\n",
      "|  null| 1397|\n",
      "+------+-----+\n",
      "\n"
     ]
    }
   ],
   "source": [
    "airports = airports.withColumn('qa_lat', \n",
    "                 (when(airports.lat == None |\n",
    "                       (airports.lat == ''), lit ('M')\n",
    "                      )\n",
    "                 .when((airports.lat < -180) | \n",
    "                       (airports.lat > 180), lit ('I'))\n",
    "                 .when(airports.lat.rlike(\"^[a-zA-Z]+$\"), lit('A'))\n",
    "                 )\n",
    "             )\n",
    "\n",
    "airports.groupBy('qa_lat').count().show()"
   ]
  },
  {
   "cell_type": "markdown",
   "metadata": {},
   "source": [
    "#### Pergunta 4\n"
   ]
  },
  {
   "cell_type": "code",
   "execution_count": 18,
   "metadata": {},
   "outputs": [
    {
     "name": "stdout",
     "output_type": "stream",
     "text": [
      "+------+-----+\n",
      "|qa_lon|count|\n",
      "+------+-----+\n",
      "|  null| 1397|\n",
      "+------+-----+\n",
      "\n"
     ]
    }
   ],
   "source": [
    "airports = airports.withColumn('qa_lon', \n",
    "                 (when((airports.lon == None) |\n",
    "                      (airports.lon == ''),lit ('M')) \n",
    "                 .when((airports.lon < -180) | \n",
    "                       (airports.lon > 180), lit ('I')) \n",
    "                 .when(airports.lon.rlike(\"^[a-zA-Z]+$\"), lit('A'))\n",
    "                 )\n",
    "             )\n",
    "\n",
    "airports.groupBy('qa_lon').count().show()"
   ]
  },
  {
   "cell_type": "markdown",
   "metadata": {},
   "source": [
    "#### Pergunta 5\n"
   ]
  },
  {
   "cell_type": "code",
   "execution_count": 19,
   "metadata": {},
   "outputs": [
    {
     "name": "stdout",
     "output_type": "stream",
     "text": [
      "+------+-----+\n",
      "|qa_alt|count|\n",
      "+------+-----+\n",
      "|  null| 1395|\n",
      "|     I|    2|\n",
      "+------+-----+\n",
      "\n"
     ]
    }
   ],
   "source": [
    "airports = airports.withColumn('qa_alt', \n",
    "                 (when(((airports.alt == None) |\n",
    "                        (airports.alt == '')\n",
    "                       ), lit ('M')) \n",
    "                 .when((airports.alt < 0)  \n",
    "                       , lit ('I')) \n",
    "                 .when(airports.alt.rlike(\"^[a-zA-Z]+$\"), lit('A'))\n",
    "                 )\n",
    "             )\n",
    "\n",
    "airports.groupBy('qa_alt').count().show()"
   ]
  },
  {
   "cell_type": "markdown",
   "metadata": {},
   "source": [
    "#### Pergunta 6"
   ]
  },
  {
   "cell_type": "code",
   "execution_count": 20,
   "metadata": {},
   "outputs": [
    {
     "name": "stdout",
     "output_type": "stream",
     "text": [
      "+-----+-----+\n",
      "|qa_tz|count|\n",
      "+-----+-----+\n",
      "| null| 1397|\n",
      "+-----+-----+\n",
      "\n"
     ]
    }
   ],
   "source": [
    "airports = airports.withColumn('qa_tz',\n",
    "                 (when((airports.tz.isNull()) | \n",
    "                        (airports.tz == ''),\n",
    "                        lit('M'))\n",
    "                 .when(\n",
    "                        (airports.tz < - 11) |\n",
    "                        (airports.tz > 14),\n",
    "                        lit('I'))\n",
    "                 .when(\n",
    "                        (airports.tz.rlike(\"^[a-zA-Z]+$\")),\n",
    "                        lit('A'))\n",
    "                 )\n",
    "             )\n",
    "\n",
    "airports.groupBy('qa_tz').count().show()"
   ]
  },
  {
   "cell_type": "markdown",
   "metadata": {},
   "source": [
    "#### Pergunta 7"
   ]
  },
  {
   "cell_type": "code",
   "execution_count": 21,
   "metadata": {},
   "outputs": [
    {
     "name": "stdout",
     "output_type": "stream",
     "text": [
      "+------+-----+\n",
      "|qa_dst|count|\n",
      "+------+-----+\n",
      "|  null| 1397|\n",
      "+------+-----+\n",
      "\n"
     ]
    }
   ],
   "source": [
    "expected_categories = ['E', 'A', 'S', 'O', 'Z', 'N', 'U']\n",
    "airports = airports.withColumn('qa_dst',\n",
    "                 (when(\n",
    "                     ((airports.dst.isNull()) |\n",
    "                     (airports.dst == '')),\n",
    "                     lit('M')\n",
    "                     )\n",
    "                  .when(\n",
    "                      (~airports.dst.isin(expected_categories)),\n",
    "                      lit('C')\n",
    "                      )\n",
    "                  .when(\n",
    "                      (airports.dst.rlike(\"^[0-9]+$\")),\n",
    "                      lit('N')\n",
    "                      )\n",
    "                 )\n",
    "             )\n",
    "\n",
    "airports.groupBy('qa_dst').count().show()"
   ]
  },
  {
   "cell_type": "markdown",
   "metadata": {},
   "source": [
    "## Saving as parquet file"
   ]
  },
  {
   "cell_type": "code",
   "execution_count": 22,
   "metadata": {},
   "outputs": [],
   "source": [
    "airports.write.mode('overwrite').parquet('../datasets/qa_airports.parquet')"
   ]
  },
  {
   "cell_type": "markdown",
   "metadata": {},
   "source": [
    "## Planes - Perguntas\n"
   ]
  },
  {
   "cell_type": "markdown",
   "metadata": {},
   "source": [
    "#### tailnum (string): Identificação do avião. Formato \"N-Number\", é composto por 5-6 caracteres.\n",
    "#### Primeira letra é sempre \"N\".\n",
    "#### De 1 a 4 digitos seguidos por 1 letra (ex. N1234Z).\n",
    "#### De 1 a 3 digitos seguidos por 2 letras (ex. N123AZ).\n",
    "#### Não deve conter 0 (zero) como primeiro digito, e não deve conter as letras \"I\" ou \"O\"."
   ]
  },
  {
   "cell_type": "code",
   "execution_count": 5,
   "metadata": {},
   "outputs": [],
   "source": [
    "path_data_planes = '../datasets/planes.csv'\n",
    "\n",
    "#Schema\n",
    "schema = (StructType([ \n",
    "    StructField(\"tailnum\",StringType(),True), \n",
    "    StructField(\"year\",IntegerType(),True), \n",
    "    StructField(\"type\",StringType(),True), \n",
    "    StructField(\"manufacturer\", StringType(), True), \n",
    "    StructField(\"model\", StringType(), True), \n",
    "    StructField(\"engines\", IntegerType(), True),\n",
    "    StructField(\"seats\", IntegerType(), True ),\n",
    "    StructField(\"speed\", IntegerType(), True),\n",
    "    StructField(\"enginge\", StringType(), True)\n",
    "                    ])\n",
    "         )\n",
    "\n",
    "#DataFrame\n",
    "planes = spark.read.csv(path_data_planes, header = True, schema = schema)"
   ]
  },
  {
   "cell_type": "markdown",
   "metadata": {},
   "source": [
    "#### Pergunta 1"
   ]
  },
  {
   "cell_type": "code",
   "execution_count": 6,
   "metadata": {},
   "outputs": [
    {
     "name": "stdout",
     "output_type": "stream",
     "text": [
      "+-------+----+--------------------+----------------+--------+-------+-----+-----+---------+\n",
      "|tailnum|year|                type|    manufacturer|   model|engines|seats|speed|  enginge|\n",
      "+-------+----+--------------------+----------------+--------+-------+-----+-----+---------+\n",
      "| N102UW|1998|Fixed wing multi ...|AIRBUS INDUSTRIE|A320-214|      2|  182| null|Turbo-fan|\n",
      "| N103US|1999|Fixed wing multi ...|AIRBUS INDUSTRIE|A320-214|      2|  182| null|Turbo-fan|\n",
      "| N104UW|1999|Fixed wing multi ...|AIRBUS INDUSTRIE|A320-214|      2|  182| null|Turbo-fan|\n",
      "| N105UW|1999|Fixed wing multi ...|AIRBUS INDUSTRIE|A320-214|      2|  182| null|Turbo-fan|\n",
      "| N107US|1999|Fixed wing multi ...|AIRBUS INDUSTRIE|A320-214|      2|  182| null|Turbo-fan|\n",
      "+-------+----+--------------------+----------------+--------+-------+-----+-----+---------+\n",
      "only showing top 5 rows\n",
      "\n"
     ]
    }
   ],
   "source": [
    "planes.show(5)"
   ]
  },
  {
   "cell_type": "markdown",
   "metadata": {},
   "source": [
    "#### Pergunta 1"
   ]
  },
  {
   "cell_type": "raw",
   "metadata": {},
   "source": [
    "for column in planes.columns:\n",
    "    planes = planes.withColumn(column, rtrim(ltrim(planes[column])))"
   ]
  },
  {
   "cell_type": "code",
   "execution_count": 7,
   "metadata": {},
   "outputs": [
    {
     "name": "stdout",
     "output_type": "stream",
     "text": [
      "+-------+----+--------------------+----------------+--------+-------+-----+-----+---------+\n",
      "|tailnum|year|                type|    manufacturer|   model|engines|seats|speed|  enginge|\n",
      "+-------+----+--------------------+----------------+--------+-------+-----+-----+---------+\n",
      "| N102UW|1998|Fixed wing multi ...|AIRBUS INDUSTRIE|A320-214|      2|  182| null|Turbo-fan|\n",
      "+-------+----+--------------------+----------------+--------+-------+-----+-----+---------+\n",
      "only showing top 1 row\n",
      "\n"
     ]
    }
   ],
   "source": [
    "planes.show(1)"
   ]
  },
  {
   "cell_type": "code",
   "execution_count": 13,
   "metadata": {},
   "outputs": [
    {
     "name": "stdout",
     "output_type": "stream",
     "text": [
      "+----------+-----+\n",
      "|qa_tailnum|count|\n",
      "+----------+-----+\n",
      "|      null| 2609|\n",
      "|         S|   19|\n",
      "+----------+-----+\n",
      "\n"
     ]
    }
   ],
   "source": [
    "planes = planes.withColumn(\"qa_tailnum\",\n",
    "                  (when(\n",
    "                          (planes.tailnum.isNull()) |\n",
    "                           (planes.tailnum == ''),\n",
    "                           lit('M')\n",
    "                        )\n",
    "                   .when(\n",
    "                         (length(trim(planes.tailnum))!= 6),\n",
    "                       lit('S')\n",
    "                      )\n",
    "                   .when(\n",
    "                         (planes.tailnum.rlike(\"^[N][0-9]{3}[a-zA-Z0-9]{2}$\")) == False,\n",
    "                        lit('F')\n",
    "                        )\n",
    "                   .when(\n",
    "                       (planes.tailnum.rlike(\"^[N]\") == False ),\n",
    "                       lit('FN')\n",
    "                       )\n",
    "                   .when(\n",
    "                       (planes.tailnum.rlike(\"^[N][I|O|0]\") == True),\n",
    "                       lit('FE')\n",
    "                       )\n",
    "                  )\n",
    "              )\n",
    "\n",
    "planes.groupBy('qa_tailnum').count().show()"
   ]
  },
  {
   "cell_type": "markdown",
   "metadata": {},
   "source": [
    "#### Pergunta 2"
   ]
  },
  {
   "cell_type": "code",
   "execution_count": 33,
   "metadata": {},
   "outputs": [
    {
     "name": "stdout",
     "output_type": "stream",
     "text": [
      "+-------+-----+\n",
      "|qa_year|count|\n",
      "+-------+-----+\n",
      "|   null| 2567|\n",
      "|      M|   60|\n",
      "|      I|    1|\n",
      "+-------+-----+\n",
      "\n"
     ]
    }
   ],
   "source": [
    "planes = planes.withColumn(\"qa_year\",\n",
    "                  (when((planes.year.isNull()) |\n",
    "                        (planes.year == ''),\n",
    "                        lit('M')\n",
    "                      )\n",
    "                   .when((planes.year < 1950),\n",
    "                         lit('I')\n",
    "                       )\n",
    "                  )\n",
    ")\n",
    "\n",
    "planes.groupBy('qa_year').count().show()"
   ]
  },
  {
   "cell_type": "markdown",
   "metadata": {},
   "source": [
    "#### Pergunta 3\n"
   ]
  },
  {
   "cell_type": "code",
   "execution_count": 34,
   "metadata": {},
   "outputs": [
    {
     "name": "stdout",
     "output_type": "stream",
     "text": [
      "+-------+-----+\n",
      "|qa_type|count|\n",
      "+-------+-----+\n",
      "|   null| 2628|\n",
      "+-------+-----+\n",
      "\n"
     ]
    }
   ],
   "source": [
    "engines = ['Fixed wing multi engine',\n",
    "           'Fixed wing single engine',\n",
    "           'Rotorcraft'\n",
    "          ]\n",
    "\n",
    "planes = planes.withColumn(\"qa_type\",\n",
    "                  (when((planes.type.isNull()) |\n",
    "                        (planes.type == ''),\n",
    "                        lit('M')\n",
    "                       )\n",
    "                   .when(~planes.type.isin(engines),\n",
    "                         lit('C')\n",
    "                        )\n",
    "                  )\n",
    ")\n",
    "\n",
    "planes.groupBy('qa_type').count().show()"
   ]
  },
  {
   "cell_type": "markdown",
   "metadata": {},
   "source": [
    "#### Pergunta 4\n"
   ]
  },
  {
   "cell_type": "code",
   "execution_count": 45,
   "metadata": {},
   "outputs": [
    {
     "name": "stdout",
     "output_type": "stream",
     "text": [
      "+---------------+-----+\n",
      "|qa_manufacturer|count|\n",
      "+---------------+-----+\n",
      "|           null| 2007|\n",
      "|              C|  621|\n",
      "+---------------+-----+\n",
      "\n",
      "+---------------+-----------------------------+\n",
      "|qa_manufacturer|manufacturer                 |\n",
      "+---------------+-----------------------------+\n",
      "|null           |CESSNA                       |\n",
      "|null           |EMBRAER                      |\n",
      "|null           |BOEING                       |\n",
      "|null           |KILDALL GARY                 |\n",
      "|null           |CANADAIR                     |\n",
      "|null           |AIRBUS                       |\n",
      "|null           |LAMBERT RICHARD              |\n",
      "|null           |PIPER                        |\n",
      "|null           |SIKORSKY                     |\n",
      "|null           |BELL                         |\n",
      "|null           |MARZ BARRY                   |\n",
      "|null           |MCDONNELL DOUGLAS            |\n",
      "|C              |GULFSTREAM AEROSPACE         |\n",
      "|C              |BOMBARDIER INC               |\n",
      "|C              |CIRRUS DESIGN CORP           |\n",
      "|C              |AIRBUS INDUSTRIE             |\n",
      "|C              |MCDONNELL DOUGLAS AIRCRAFT CO|\n",
      "|C              |ROBINSON HELICOPTER CO       |\n",
      "|C              |BARKER JACK L                |\n",
      "+---------------+-----------------------------+\n",
      "\n"
     ]
    }
   ],
   "source": [
    "manufacturer = ['AIRBUS',\n",
    "                'BOEING',\n",
    "                'BOMBARDIER',\n",
    "                'CESSNA',\n",
    "                'EMBRAER',\n",
    "                'SIKORSKY',\n",
    "                'CANADAIR',\n",
    "                'PIPER',\n",
    "                'MCDONNELL DOUGLAS',\n",
    "                'CIRRUS',\n",
    "                'BELL',\n",
    "                'KILDALL GARY',\n",
    "                'LAMBERT RICHARD',\n",
    "                'BARKER JACK',\n",
    "                'ROBINSON HELICOPTER',\n",
    "                'GULFSTREAM',\n",
    "                'MARZ BARRY',\n",
    "               ]\n",
    "\n",
    "planes = planes.withColumn(\"qa_manufacturer\",\n",
    "                     (when((planes.manufacturer.isNull()) |\n",
    "                           (planes.manufacturer == ''),\n",
    "                           lit('M')\n",
    "                         )\n",
    "                      .when(~planes.manufacturer.isin(manufacturer),\n",
    "                            lit('C')\n",
    "                          )\n",
    "                     )\n",
    "                 )\n",
    "\n",
    "planes.groupBy('qa_manufacturer').count().show()\n",
    "planes.select('qa_manufacturer', 'manufacturer').distinct().sort('qa_manufacturer').show(truncate = False)"
   ]
  },
  {
   "cell_type": "markdown",
   "metadata": {},
   "source": [
    "#### Pergunta 5\n"
   ]
  },
  {
   "cell_type": "code",
   "execution_count": 47,
   "metadata": {},
   "outputs": [
    {
     "name": "stdout",
     "output_type": "stream",
     "text": [
      "+--------+-----+\n",
      "|qa_model|count|\n",
      "+--------+-----+\n",
      "|       F|   15|\n",
      "|    null| 2613|\n",
      "+--------+-----+\n",
      "\n"
     ]
    }
   ],
   "source": [
    "planes = planes.withColumn('qa_model',\n",
    "                     (when((planes.model.isNull()) |\n",
    "                           (planes.model == ''),\n",
    "                           lit('M')\n",
    "                         )\n",
    "                     )\n",
    "                     .when((planes.manufacturer == 'AIRBUS INDUSTRIE') &\n",
    "                           (~planes.model.rlike(\"^[A]\")), \n",
    "                           lit ('F')\n",
    "                     )\n",
    "                     .when((planes.manufacturer == 'BOEING') &\n",
    "                           (~planes.model.rlike(\"^[7]\")), \n",
    "                           lit ('F')\n",
    "                     )\n",
    "                     .when(\n",
    "                           ((planes.manufacturer == 'BOMBARDIER') | (planes.manufacturer == 'CANADAIR')) &\n",
    "                           (~planes.model.rlike(\"^[CL]\")), \n",
    "                           lit ('F')\n",
    "                     )\n",
    "                     .when((planes.manufacturer == 'MCDONELL DOUGLAS') &\n",
    "                           ((~planes.model.rlike(\"^[MD]\")) |\n",
    "                            (~planes.model.rlike(\"^[DC]\"))\n",
    "                           )\n",
    "                           , lit ('F')\n",
    "                     )\n",
    "                 )\n",
    "\n",
    "planes.groupBy('qa_model').count().show()"
   ]
  },
  {
   "cell_type": "markdown",
   "metadata": {},
   "source": [
    "### Pergunta 6"
   ]
  },
  {
   "cell_type": "code",
   "execution_count": 49,
   "metadata": {},
   "outputs": [
    {
     "name": "stdout",
     "output_type": "stream",
     "text": [
      "+----------+-----+\n",
      "|qa_engines|count|\n",
      "+----------+-----+\n",
      "|      null| 2628|\n",
      "+----------+-----+\n",
      "\n"
     ]
    }
   ],
   "source": [
    "planes = planes.withColumn('qa_engines',\n",
    "                     (when((planes.engines.isNull()) |\n",
    "                           (planes.engines == ''),\n",
    "                           lit('M')\n",
    "                         )\n",
    "                      .when(~planes.engines.between(1, 4),\n",
    "                            lit('I')\n",
    "                          )\n",
    "                      .when(planes.engines.rlike('[a-zA-Z]+$'),\n",
    "                            lit('A')\n",
    "                          )\n",
    "                     )\n",
    "                 )\n",
    "\n",
    "planes.groupBy('qa_engines').count().show()"
   ]
  },
  {
   "cell_type": "markdown",
   "metadata": {},
   "source": [
    "### Pergunta 7"
   ]
  },
  {
   "cell_type": "code",
   "execution_count": 51,
   "metadata": {},
   "outputs": [
    {
     "name": "stdout",
     "output_type": "stream",
     "text": [
      "+--------+-----+\n",
      "|qa_seats|count|\n",
      "+--------+-----+\n",
      "|    null| 2628|\n",
      "+--------+-----+\n",
      "\n"
     ]
    }
   ],
   "source": [
    "planes = planes.withColumn('qa_seats',\n",
    "                      (when((planes.seats.isNull()) |\n",
    "                            (planes.seats == ''),\n",
    "                            lit('M')\n",
    "                          )\n",
    "                       .when(~planes.seats.between(2,500),\n",
    "                             lit('I')\n",
    "                           )\n",
    "                       .when(planes.seats.rlike('[a-zA-Z]+$'),\n",
    "                             lit('A')\n",
    "                           )\n",
    "                      )\n",
    "                 )\n",
    "\n",
    "planes.groupBy('qa_seats').count().show()"
   ]
  },
  {
   "cell_type": "markdown",
   "metadata": {},
   "source": [
    "### Pergunta 8"
   ]
  },
  {
   "cell_type": "code",
   "execution_count": 52,
   "metadata": {},
   "outputs": [
    {
     "name": "stdout",
     "output_type": "stream",
     "text": [
      "+--------+-----+\n",
      "|qa_speed|count|\n",
      "+--------+-----+\n",
      "|    null|    6|\n",
      "|       M| 2622|\n",
      "+--------+-----+\n",
      "\n"
     ]
    }
   ],
   "source": [
    "planes = planes.withColumn('qa_speed',\n",
    "                     (when((planes.speed.isNull()) |\n",
    "                           (planes.speed == ''),\n",
    "                           lit('M')\n",
    "                         )\n",
    "                      .when(~planes.speed.between(50,150),\n",
    "                            lit('I')\n",
    "                          )\n",
    "                      .when(planes.speed.rlike('[a-zA-Z]+$'),\n",
    "                            lit('A')\n",
    "                          )\n",
    "                     )\n",
    "                 )\n",
    "\n",
    "planes.groupBy('qa_speed').count().show()"
   ]
  },
  {
   "cell_type": "markdown",
   "metadata": {},
   "source": [
    "### Pergunta 9"
   ]
  },
  {
   "cell_type": "code",
   "execution_count": 60,
   "metadata": {},
   "outputs": [
    {
     "name": "stdout",
     "output_type": "stream",
     "text": [
      "+----------+-----+\n",
      "|qa_enginge|count|\n",
      "+----------+-----+\n",
      "|      null| 2618|\n",
      "|         C|   10|\n",
      "+----------+-----+\n",
      "\n",
      "+----------+-------------+\n",
      "|qa_enginge|      enginge|\n",
      "+----------+-------------+\n",
      "|         C|Reciprocating|\n",
      "|      null|    Turbo-jet|\n",
      "|      null|      4 Cycle|\n",
      "|      null|    Turbo-fan|\n",
      "|      null|   Turbo-prop|\n",
      "|      null|  Turbo-shaft|\n",
      "+----------+-------------+\n",
      "\n"
     ]
    }
   ],
   "source": [
    "enginge_categories = ['Turbo-fan',\n",
    "                      'Turbo-jet',\n",
    "                      'Turbo-prop',\n",
    "                      'Turbo-shaft',\n",
    "                      '4 Cycle'\n",
    "                     ]\n",
    "\n",
    "planes = planes.withColumn('qa_enginge',\n",
    "                     (when((planes.enginge.isNull()) |\n",
    "                           (planes.enginge == ''),\n",
    "                           lit('M')\n",
    "                         )\n",
    "                      .when(~planes.enginge.isin(enginge_categories),\n",
    "                            lit('C')\n",
    "                          )\n",
    "                     )\n",
    "                 )\n",
    "\n",
    "planes.groupBy('qa_enginge').count().show()\n",
    "planes.select('qa_enginge', 'enginge').distinct().show()"
   ]
  },
  {
   "cell_type": "code",
   "execution_count": 54,
   "metadata": {},
   "outputs": [
    {
     "name": "stdout",
     "output_type": "stream",
     "text": [
      "+-----+\n",
      "|speed|\n",
      "+-----+\n",
      "|  108|\n",
      "|  126|\n",
      "| null|\n",
      "|  112|\n",
      "|  107|\n",
      "|   90|\n",
      "+-----+\n",
      "\n"
     ]
    }
   ],
   "source": [
    "planes.select(planes.speed).distinct().show(50)"
   ]
  },
  {
   "cell_type": "code",
   "execution_count": 61,
   "metadata": {},
   "outputs": [],
   "source": [
    "planes.write.mode('overwrite').parquet('../datasets/qa_planes.parquet')"
   ]
  },
  {
   "cell_type": "markdown",
   "metadata": {},
   "source": [
    "## Flights\n"
   ]
  },
  {
   "cell_type": "markdown",
   "metadata": {},
   "source": [
    "#### year (int), month (int), day (int): Ano, Mês, Dia de partida. hour (int), minute (int): Hora e Minuto agendada para partida.\n",
    "#### dep_time (string), arr_time (string): Horario real de partida/chegada do voo no horário local. Formato: HHMM ou HMM.\n",
    "#### dep_delay (int), arr_delay (int): Atraso de partida/chegada do voo em minutos. Valores negativos representam partidas/chegadas antecipadas.\n",
    "#### carrier (string): Identificador da empresa aérea.\n",
    "#### tailnum (string): Identificador do avião. Veja dataset planes.\n",
    "#### flight (string): Identificador do vôo. Formato: 4 dígitos (preenchidos com zero a esquerda caso necessário).\n",
    "#### origin (string), dest (string): Identificadores dos aeroportos de origem e destino. Veja dataset airports.\n",
    "#### air_time (int): Tempo de vôo. Unidade de medida em minutos. Intervalo de dados ."
   ]
  },
  {
   "cell_type": "code",
   "execution_count": 11,
   "metadata": {},
   "outputs": [],
   "source": [
    "flights_schema = (StructType([ \n",
    "    StructField(\"year\",IntegerType(),True), \n",
    "    StructField(\"month\",IntegerType(),True), \n",
    "    StructField(\"day\",IntegerType(),True), \n",
    "    StructField(\"dep_time\", StringType(), True), \n",
    "    StructField(\"dep_delay\", IntegerType(), True), \n",
    "    StructField(\"arr_time\", StringType(), True),\n",
    "    StructField(\"arr_delay\", IntegerType(), True ),\n",
    "    StructField(\"carrier\", StringType(), True),\n",
    "    StructField(\"tailnum\", StringType(), True),\n",
    "    StructField(\"flight\", StringType(), True),\n",
    "    StructField(\"origin\", StringType(), True),\n",
    "    StructField(\"dest\", StringType(), True),\n",
    "    StructField(\"air_time\", IntegerType(), True),\n",
    "    StructField(\"distance\", IntegerType(), True),\n",
    "    StructField(\"hour\", IntegerType(), True),\n",
    "    StructField(\"minute\", IntegerType(), True)\n",
    "                    ])\n",
    "         )\n",
    "flights = spark.read.csv('../datasets/flights.csv', header = True, schema = flights_schema)"
   ]
  },
  {
   "cell_type": "code",
   "execution_count": 12,
   "metadata": {},
   "outputs": [],
   "source": [
    "flights = flights.select('year', \n",
    "                         'month',\n",
    "                         'day',\n",
    "                         'hour',\n",
    "                         'minute',\n",
    "                         'dep_time',\n",
    "                         'arr_time',\n",
    "                         'dep_delay',\n",
    "                         'arr_delay',\n",
    "                         'carrier',\n",
    "                         'tailnum',\n",
    "                         'flight',\n",
    "                         'origin',\n",
    "                         'dest',\n",
    "                         'air_time',\n",
    "                         'distance'\n",
    "                        )"
   ]
  },
  {
   "cell_type": "code",
   "execution_count": 14,
   "metadata": {},
   "outputs": [
    {
     "name": "stdout",
     "output_type": "stream",
     "text": [
      "root\n",
      " |-- year: integer (nullable = true)\n",
      " |-- month: integer (nullable = true)\n",
      " |-- day: integer (nullable = true)\n",
      " |-- hour: integer (nullable = true)\n",
      " |-- minute: integer (nullable = true)\n",
      " |-- dep_time: string (nullable = true)\n",
      " |-- arr_time: string (nullable = true)\n",
      " |-- dep_delay: integer (nullable = true)\n",
      " |-- arr_delay: integer (nullable = true)\n",
      " |-- carrier: string (nullable = true)\n",
      " |-- tailnum: string (nullable = true)\n",
      " |-- flight: string (nullable = true)\n",
      " |-- origin: string (nullable = true)\n",
      " |-- dest: string (nullable = true)\n",
      " |-- air_time: integer (nullable = true)\n",
      " |-- distance: integer (nullable = true)\n",
      "\n"
     ]
    }
   ],
   "source": [
    "flights.printSchema()\n"
   ]
  },
  {
   "cell_type": "markdown",
   "metadata": {},
   "source": [
    "#### Pergunta 1"
   ]
  },
  {
   "cell_type": "code",
   "execution_count": 64,
   "metadata": {},
   "outputs": [],
   "source": [
    "flights = flights.withColumn('qa_year_month_day',\n",
    "                                (when((flights.year.isNull()) |\n",
    "                                      (flights.year == ''),\n",
    "                                      lit('MY')\n",
    "                                    )\n",
    "                                 .when((flights.month.isNull()) |\n",
    "                                      (flights.month == ''),\n",
    "                                      lit('MM')\n",
    "                                    )\n",
    "                                 .when((flights.day.isNull()) |\n",
    "                                      (flights.day == ''),\n",
    "                                      lit('MD')\n",
    "                                    )\n",
    "                                 .when((flights.year< 1950), \n",
    "                                      lit('IY')\n",
    "                                    )\n",
    "                                 .when((~flights.month.between(1,12)), \n",
    "                                      lit('IM')\n",
    "                                )\n",
    "                                 .when(((flights.year == 2) & (~flights.day.between(1,29))) |\n",
    "                                       ((flights.year != 2) & (~flights.day.between(1,31))), \n",
    "                                       lit('IY'))\n",
    "                            ))"
   ]
  },
  {
   "cell_type": "markdown",
   "metadata": {},
   "source": [
    "#### Pergunta 2"
   ]
  },
  {
   "cell_type": "code",
   "execution_count": 65,
   "metadata": {},
   "outputs": [],
   "source": [
    "flights = flights.withColumn('qa_hour_minute',\n",
    "                      (when((flights.hour.isNull()) |\n",
    "                            (flights.hour == ''),\n",
    "                            lit('MH')\n",
    "                          )\n",
    "                       .when((flights.minute.isNull()) |\n",
    "                             (flights.minute == ''),\n",
    "                             lit('MM')\n",
    "                           )\n",
    "                       .when(~flights.hour.between(0,23), lit('IH'))\n",
    "                       .when(~flights.minute.between(0,59), lit('IM'))\n",
    "                      )\n",
    "                  )"
   ]
  },
  {
   "cell_type": "markdown",
   "metadata": {},
   "source": [
    "#### Pergunta 3"
   ]
  },
  {
   "cell_type": "code",
   "execution_count": 66,
   "metadata": {},
   "outputs": [
    {
     "name": "stdout",
     "output_type": "stream",
     "text": [
      "+---------------+-----+\n",
      "|qa_dep_arr_time|count|\n",
      "+---------------+-----+\n",
      "|           null| 9710|\n",
      "|             FD|  290|\n",
      "+---------------+-----+\n",
      "\n"
     ]
    }
   ],
   "source": [
    "flights = flights.withColumn('qa_dep_arr_time',\n",
    "                       (when((flights.dep_time.isNull()) |\n",
    "                             (flights.dep_time == ''),\n",
    "                             lit('MD')\n",
    "                           )\n",
    "                        .when((flights.arr_time.isNull()) |\n",
    "                              (flights.arr_time == ''),\n",
    "                              lit('MA')\n",
    "                            )\n",
    "                        .when((length(flights.dep_time) < 3 ) |\n",
    "                              (length(flights.dep_time) > 4 ),\n",
    "                              lit('FD')\n",
    "                             )\n",
    "                        .when((length(flights.arr_time) < 3 ) |\n",
    "                              (length(flights.arr_time) > 4 ),\n",
    "                              lit('FD')\n",
    "                             )\n",
    "                        .when((length(flights.dep_time) == 3) &\n",
    "                              (~flights.dep_time.substr(1,1).cast('int').between(0, 23)) &\n",
    "                              (~flights.dep_time.substr(2,3).cast('int').between(0,59)),\n",
    "                              lit('FD')\n",
    "                            )\n",
    "                        .when((length(flights.dep_time) == 4) &\n",
    "                              (~flights.dep_time.substr(1,2).cast('int').between(0, 23)) &\n",
    "                              (~flights.dep_time.substr(3,4).cast('int').between(0,59)), \n",
    "                              lit('FD')\n",
    "                            )\n",
    "                        .when((length(flights.arr_time) == 3) &\n",
    "                              (~flights.arr_time.substr(1,1).cast('int').between(0, 23)) &\n",
    "                              (~flights.arr_time.substr(2,3).cast('int').between(0,59)), \n",
    "                              lit('FD')\n",
    "                            )\n",
    "                        .when((length(flights.dep_time) == 4) &\n",
    "                              (~flights.arr_time.substr(1,2).cast('int').between(0, 23)) &\n",
    "                              (~flights.arr_time.substr(3,4).cast('int').between(0,59)), \n",
    "                              lit('FD')\n",
    "                           )  \n",
    "                       )\n",
    "                  )\n",
    "\n",
    "flights.groupBy('qa_dep_arr_time').count().show()"
   ]
  },
  {
   "cell_type": "markdown",
   "metadata": {},
   "source": [
    "#### Pergunta 4"
   ]
  },
  {
   "cell_type": "code",
   "execution_count": 68,
   "metadata": {},
   "outputs": [
    {
     "name": "stdout",
     "output_type": "stream",
     "text": [
      "+----------------+-----+\n",
      "|qa_dep_arr_delay|count|\n",
      "+----------------+-----+\n",
      "|            null| 9925|\n",
      "|              MD|   48|\n",
      "|              MA|   27|\n",
      "+----------------+-----+\n",
      "\n"
     ]
    }
   ],
   "source": [
    "flights = flights.withColumn('qa_dep_arr_delay',\n",
    "                      (when((flights.dep_delay.isNull()) |\n",
    "                            (flights.dep_delay == ''),\n",
    "                            lit('MD')\n",
    "                          )\n",
    "                       .when((flights.arr_delay.isNull()) |\n",
    "                            (flights.arr_delay == ''),\n",
    "                            lit('MA')\n",
    "                           )\n",
    "                      )\n",
    "                  )\n",
    "\n",
    "flights.groupBy('qa_dep_arr_delay').count().show()"
   ]
  },
  {
   "cell_type": "markdown",
   "metadata": {},
   "source": [
    "#### Pergunta 5"
   ]
  },
  {
   "cell_type": "code",
   "execution_count": 70,
   "metadata": {},
   "outputs": [
    {
     "name": "stdout",
     "output_type": "stream",
     "text": [
      "+----------+-----+\n",
      "|qa_carrier|count|\n",
      "+----------+-----+\n",
      "|      null|10000|\n",
      "+----------+-----+\n",
      "\n"
     ]
    }
   ],
   "source": [
    "flights = flights.withColumn('qa_carrier',\n",
    "                      (when((flights.carrier.isNull()) |\n",
    "                            (flights.carrier == ''),\n",
    "                            lit('M')\n",
    "                          )\n",
    "                       .when((flights.carrier.rlike(\"[a-zA-Z-0-9]+$\") == False),\n",
    "                             lit('F')\n",
    "                           )\n",
    "                      )\n",
    "                  )\n",
    "\n",
    "flights.groupBy('qa_carrier').count().show()"
   ]
  },
  {
   "cell_type": "code",
   "execution_count": 71,
   "metadata": {},
   "outputs": [],
   "source": [
    "tailnum = flights.tailnum\n"
   ]
  },
  {
   "cell_type": "code",
   "execution_count": 73,
   "metadata": {},
   "outputs": [
    {
     "name": "stdout",
     "output_type": "stream",
     "text": [
      "+----------+-----+\n",
      "|qa_tailnum|count|\n",
      "+----------+-----+\n",
      "|         F|  435|\n",
      "|      null| 9507|\n",
      "|         S|   58|\n",
      "+----------+-----+\n",
      "\n"
     ]
    }
   ],
   "source": [
    "flights = flights.withColumn('qa_tailnum',\n",
    "                      (when((tailnum.isNull()) |\n",
    "                            (tailnum == ''),\n",
    "                            lit('M')\n",
    "                          )\n",
    "                       .when(length(tailnum )!= 6,\n",
    "                            lit('S')\n",
    "                           )\n",
    "                       .when(tailnum.rlike(\"^[N][0-9]{3}[a-zA-Z0-9]{2}$\") == False,\n",
    "                            lit('F')\n",
    "                            )\n",
    "                       .when(tailnum.rlike('^[N]') == False,\n",
    "                            lit('FN')\n",
    "                            )\n",
    "                       .when(tailnum.rlike(\"^[N][I|O|0]\") == True,\n",
    "                               lit('FE')\n",
    "                            )\n",
    "                      )\n",
    "                  )\n",
    "\n",
    "flights.groupBy('qa_tailnum').count().show()"
   ]
  },
  {
   "cell_type": "code",
   "execution_count": 84,
   "metadata": {},
   "outputs": [
    {
     "name": "stdout",
     "output_type": "stream",
     "text": [
      "+---------+-----+\n",
      "|qa_flight|count|\n",
      "+---------+-----+\n",
      "|        F| 6158|\n",
      "|     null| 3842|\n",
      "+---------+-----+\n",
      "\n"
     ]
    }
   ],
   "source": [
    "qa_flight = flights.flight\n",
    "flights   = flights.withColumn('qa_flight',(\n",
    "                        when((qa_flight.isNull()) |\n",
    "                            (qa_flight == ''),\n",
    "                            lit('M'))\n",
    "                       .when((length(qa_flight) != 4) &\n",
    "                             (~qa_flight.rlike(\"^[0-9]{4}$\")),\n",
    "                             lit('F')\n",
    "                           )\n",
    "                      )\n",
    "                  )\n",
    "\n",
    "flights.groupBy('qa_flight').count().show()"
   ]
  },
  {
   "cell_type": "code",
   "execution_count": 85,
   "metadata": {},
   "outputs": [
    {
     "name": "stdout",
     "output_type": "stream",
     "text": [
      "+--------------+-----+\n",
      "|qa_origin_dest|count|\n",
      "+--------------+-----+\n",
      "|          null|10000|\n",
      "+--------------+-----+\n",
      "\n"
     ]
    }
   ],
   "source": [
    "origin = flights.origin\n",
    "dest   = flights.dest\n",
    "\n",
    "flights = flights.withColumn('qa_origin_dest',\n",
    "                      (when((origin.isNull()) |\n",
    "                            (origin == ''),\n",
    "                            lit('MO')\n",
    "                          )\n",
    "                       .when((dest.isNull()) |\n",
    "                            (dest == ''),\n",
    "                            lit('MD')\n",
    "                      )\n",
    "                       .when(origin.rlike(\"[a-zA-Z0-9]{3}\") == False,\n",
    "                            lit('FO')\n",
    "                            )\n",
    "                       .when(dest.rlike(\"[a-zA-Z0-9]{3}\") == False,\n",
    "                            lit('FD')\n",
    "                            )\n",
    "                  )\n",
    "                )\n",
    "\n",
    "flights.groupBy('qa_origin_dest').count().show()"
   ]
  },
  {
   "cell_type": "code",
   "execution_count": 86,
   "metadata": {},
   "outputs": [
    {
     "name": "stdout",
     "output_type": "stream",
     "text": [
      "+-----------+-----+\n",
      "|qa_air_time|count|\n",
      "+-----------+-----+\n",
      "|       null| 9925|\n",
      "|          M|   75|\n",
      "+-----------+-----+\n",
      "\n"
     ]
    }
   ],
   "source": [
    "air_time = flights.air_time \n",
    "\n",
    "flights = flights.withColumn('qa_air_time',\n",
    "                      (when((air_time.isNull()) |\n",
    "                            (air_time == ''),\n",
    "                            lit('M')\n",
    "                          )\n",
    "                       .when(~air_time.between(20,500),\n",
    "                            lit('I')\n",
    "                            )\n",
    "                      )\n",
    "                  )\n",
    "\n",
    "flights.groupBy('qa_air_time').count().show()"
   ]
  },
  {
   "cell_type": "code",
   "execution_count": 87,
   "metadata": {},
   "outputs": [
    {
     "name": "stdout",
     "output_type": "stream",
     "text": [
      "+-----------+-----+\n",
      "|qa_distance|count|\n",
      "+-----------+-----+\n",
      "|       null|10000|\n",
      "+-----------+-----+\n",
      "\n"
     ]
    }
   ],
   "source": [
    "distance = flights.distance \n",
    "\n",
    "flights = flights.withColumn('qa_distance',\n",
    "                      (when((distance.isNull()) |\n",
    "                            (distance == ''),\n",
    "                            lit('M')\n",
    "                          )\n",
    "                       .when(~distance.between(50,3000),\n",
    "                            lit('I')\n",
    "                            )\n",
    "                      )\n",
    "                  )\n",
    "\n",
    "flights.groupBy('qa_distance').count().show()"
   ]
  },
  {
   "cell_type": "code",
   "execution_count": 88,
   "metadata": {},
   "outputs": [
    {
     "name": "stdout",
     "output_type": "stream",
     "text": [
      "+-------------------+-----+\n",
      "|qa_distance_airtime|count|\n",
      "+-------------------+-----+\n",
      "|                  M|   75|\n",
      "|                 TR| 4831|\n",
      "|                 TS|   67|\n",
      "|                 TL| 5027|\n",
      "+-------------------+-----+\n",
      "\n"
     ]
    }
   ],
   "source": [
    "flights = flights.withColumn('qa_distance_airtime',\n",
    "                  (when((air_time.isNull()) |\n",
    "                        (air_time == '') |\n",
    "                        (distance.isNull()) |\n",
    "                        (distance == ''),\n",
    "                        lit('M')\n",
    "                      )\n",
    "                   .when(air_time >= (distance * 0.1) + 30,\n",
    "                         lit('TL')\n",
    "                       )\n",
    "                   .when(air_time <= (distance * 0.1) + 10,\n",
    "                         lit('TS')\n",
    "                       )\n",
    "                   .when((air_time > (distance * 0.1) + 10) &\n",
    "                         (air_time < (distance * 0.1) + 30),\n",
    "                         lit('TR')\n",
    "                        )\n",
    "                  )\n",
    "                )\n",
    "\n",
    "flights.groupBy('qa_distance_airtime').count().show()"
   ]
  },
  {
   "cell_type": "code",
   "execution_count": 89,
   "metadata": {},
   "outputs": [],
   "source": [
    "flights.write.mode('overwrite').parquet('../datasets/qa_flights.parquet')"
   ]
  },
  {
   "cell_type": "code",
   "execution_count": null,
   "metadata": {},
   "outputs": [],
   "source": []
  }
 ],
 "metadata": {
  "kernelspec": {
   "display_name": "Python 3 (ipykernel)",
   "language": "python",
   "name": "python3"
  },
  "language_info": {
   "codemirror_mode": {
    "name": "ipython",
    "version": 3
   },
   "file_extension": ".py",
   "mimetype": "text/x-python",
   "name": "python",
   "nbconvert_exporter": "python",
   "pygments_lexer": "ipython3",
   "version": "3.9.7"
  }
 },
 "nbformat": 4,
 "nbformat_minor": 4
}
