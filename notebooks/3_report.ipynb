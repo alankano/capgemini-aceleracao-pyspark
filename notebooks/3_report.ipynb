{
 "cells": [
  {
   "cell_type": "code",
   "execution_count": 1,
   "id": "cefb213f",
   "metadata": {},
   "outputs": [],
   "source": [
    "import findspark\n",
    "findspark.init()"
   ]
  },
  {
   "cell_type": "code",
   "execution_count": 2,
   "id": "8c556b09",
   "metadata": {},
   "outputs": [],
   "source": [
    "# PySpark is the Spark API for Python. In this lab, we use PySpark to initialize the spark context. \n",
    "from pyspark import SparkContext, SparkConf\n",
    "from pyspark.sql import SparkSession\n",
    "from pyspark.sql import SQLContext\n",
    "from pyspark.sql import functions as F\n",
    "from pyspark.sql.types import StructType,StructField, StringType, IntegerType, FloatType, BinaryType, DateType\n"
   ]
  },
  {
   "cell_type": "code",
   "execution_count": 3,
   "id": "c2a07d31",
   "metadata": {},
   "outputs": [],
   "source": [
    "# Criar o contexto do spark\n",
    "sc = SparkContext()\n",
    "\n",
    "# Instancia o criador de sessao do spark\n",
    "spark = (SparkSession.builder\n",
    "                     .master(\"local[7]\")\n",
    "                     .appName(\"Aceleração PySpark - Capgemini\"))"
   ]
  },
  {
   "cell_type": "code",
   "execution_count": 4,
   "id": "3ba72774",
   "metadata": {},
   "outputs": [],
   "source": [
    "airports_path_data = '../data/qa_airports.parquet'\n",
    "planes_path_data   = '../data/qa_planes.parquet'\n",
    "flights_path_data  = '../data/qa_flights.parquet'\n",
    "\n",
    "\n",
    "airports = (spark.getOrCreate().read\n",
    "                  .format(\"parquet\")\n",
    "                  .option(\"header\", \"true\")\n",
    "                  .load(airports_path_data))\n",
    "\n",
    "planes   = (spark.getOrCreate().read\n",
    "                  .format(\"parquet\")\n",
    "                  .option(\"header\", \"true\")\n",
    "                  .load(planes_path_data))\n",
    "\n",
    "flights  = (spark.getOrCreate().read\n",
    "                  .format(\"parquet\")\n",
    "                  .option(\"header\", \"true\")\n",
    "                  .load(flights_path_data))"
   ]
  },
  {
   "cell_type": "markdown",
   "id": "e5a160e6",
   "metadata": {},
   "source": [
    "## Perguntas para Qualidade"
   ]
  },
  {
   "cell_type": "markdown",
   "id": "16050a5e",
   "metadata": {},
   "source": [
    "### Unificando os datasets"
   ]
  },
  {
   "cell_type": "code",
   "execution_count": 5,
   "id": "743ff66a",
   "metadata": {},
   "outputs": [],
   "source": [
    "planes  = planes.withColumnRenamed('tailnum', 'planes_tailnum').withColumnRenamed('qa_tailnum', 'planes_qa_tailnum')\n",
    "flights = flights.withColumnRenamed('tailnum', 'flights_tailnum').withColumnRenamed('qa_tailnum', 'flights_qa_tailnum')"
   ]
  },
  {
   "cell_type": "code",
   "execution_count": 6,
   "id": "bc49e272",
   "metadata": {},
   "outputs": [],
   "source": [
    "origin_to_join = airports.select('faa',\n",
    "                                   'qa_faa',\n",
    "                                   'qa_name',\n",
    "                                   'qa_lat',\n",
    "                                   'qa_lon',\n",
    "                                   'qa_alt',\n",
    "                                   'qa_tz',\n",
    "                                   'qa_dst')\n",
    "\n",
    "origin_to_join = (airports.withColumnRenamed('faa', 'origin_faa')\n",
    "                         .withColumnRenamed('qa_faa', 'origin_qa_faa')\n",
    "                         .withColumnRenamed('qa_name', 'origin_qa_name')\n",
    "                         .withColumnRenamed('qa_lat', 'origin_qa_lat')\n",
    "                         .withColumnRenamed('qa_lon', 'origin_qa_lon')\n",
    "                         .withColumnRenamed('qa_alt', 'origin_qa_alt')\n",
    "                         .withColumnRenamed('qa_tz', 'origin_qa_tz')\n",
    "                         .withColumnRenamed('qa_dst', 'origin_qa_dst'))\n",
    "\n",
    "\n",
    "dest_to_join = (airports.withColumnRenamed('faa', 'dest_faa')\n",
    "                         .withColumnRenamed('qa_faa', 'dest_qa_faa')\n",
    "                         .withColumnRenamed('qa_name', 'dest_qa_name')\n",
    "                         .withColumnRenamed('qa_lat', 'dest_qa_lat')\n",
    "                         .withColumnRenamed('qa_lon', 'dest_qa_lon')\n",
    "                         .withColumnRenamed('qa_alt', 'dest_qa_alt')\n",
    "                         .withColumnRenamed('qa_tz', 'dest_qa_tz')\n",
    "                         .withColumnRenamed('qa_dst', 'dest_qa_dst'))\n",
    "\n",
    "planes_to_join   = planes.select( 'planes_tailnum',\n",
    "                                    'planes_qa_tailnum',\n",
    "                                    'qa_year',\n",
    "                                    'qa_type',\n",
    "                                    'qa_manufacturer',\n",
    "                                    'qa_model',\n",
    "                                    'qa_engines',\n",
    "                                    'qa_seats',\n",
    "                                    'qa_speed',\n",
    "                                    'qa_enginge')\n",
    "\n",
    "flights_to_join  = flights.select( 'flights_tailnum',\n",
    "                                    'origin',\n",
    "                                    'dest',\n",
    "                                    'qa_year_month_day',\n",
    "                                    'qa_hour_minute',\n",
    "                                    'qa_dep_arr_time',\n",
    "                                    'qa_dep_arr_delay',\n",
    "                                    'qa_carrier',\n",
    "                                    'flights_qa_tailnum',\n",
    "                                    'qa_flight',\n",
    "                                    'qa_origin_dest',\n",
    "                                    'qa_air_time',\n",
    "                                    'qa_distance',\n",
    "                                    'qa_distance_airtime')"
   ]
  },
  {
   "cell_type": "code",
   "execution_count": 7,
   "id": "aa4e53db",
   "metadata": {},
   "outputs": [],
   "source": [
    "df = flights_to_join.join(origin_to_join, \n",
    "                     (flights_to_join.origin == origin_to_join.origin_faa),                    \n",
    "                    'left'\n",
    "                    )\n",
    "\n",
    "df = df.join(dest_to_join, \n",
    "                     (flights_to_join.dest == dest_to_join.dest_faa),                    \n",
    "                    'left'\n",
    "                    )\n",
    "\n",
    "df = df.join(planes_to_join, \n",
    "                     (df.flights_tailnum == planes_to_join.planes_tailnum),\n",
    "                    'left'\n",
    "                    )"
   ]
  },
  {
   "cell_type": "markdown",
   "id": "df5890a9",
   "metadata": {},
   "source": [
    "#### M - dado faltante\n",
    "#### F  - indica que não respeita o formato esperado \n",
    "#### I   - indica que o valor excede o intervalo esperado\n",
    "#### S - Indica que não tem exatamente 5 caracteres.\n",
    "#### T"
   ]
  },
  {
   "cell_type": "markdown",
   "id": "5c61707c",
   "metadata": {},
   "source": [
    "#### Formatando os dados para conter apenas valores M, F, I, S, T e null"
   ]
  },
  {
   "cell_type": "code",
   "execution_count": 8,
   "id": "96af0624",
   "metadata": {},
   "outputs": [],
   "source": [
    "for column in df.schema.names:\n",
    "    if 'qa_' in column:\n",
    "        df = df.withColumn(column, (\n",
    "                          F.when(F.col(column).startswith('M'), 'M')\n",
    "                           .when(F.col(column).startswith('F'), 'F')\n",
    "                           .when(F.col(column).startswith('I'), 'I')\n",
    "                           .when(F.col(column).startswith('S'), 'S')\n",
    "                           .when(F.col(column).startswith('T'), 'T')\n",
    "                           .otherwise(F.col(column))\n",
    "        ))"
   ]
  },
  {
   "cell_type": "markdown",
   "id": "1a12600b",
   "metadata": {},
   "source": [
    "#### Criando o dataframe base"
   ]
  },
  {
   "cell_type": "markdown",
   "id": "3b51d788",
   "metadata": {},
   "source": [
    "#### Função para juntar os groupbys em um dataframe.\n",
    "#### Uso de union para juntar todos eles"
   ]
  },
  {
   "cell_type": "raw",
   "id": "75d93997",
   "metadata": {},
   "source": [
    "def creating_dataframe(groupedBy, mainDf, column):\n",
    "    try:\n",
    "        m_values    = groupedBy.where(F.col(column) == 'M').collect()[0]['count']\n",
    "    except:\n",
    "        m_values    = 0\n",
    "    try:\n",
    "        f_values    = groupedBy.where(F.col(column) == 'F').collect()[0]['count']\n",
    "    except:\n",
    "        f_values    = 0\n",
    "    try:\n",
    "        i_values    = groupedBy.where(F.col(column) == 'I').collect()[0]['count']\n",
    "    except:\n",
    "        i_values    = 0\n",
    "    try:\n",
    "        s_values    = groupedBy.where(F.col(column) == 'S').collect()[0]['count']\n",
    "    except:\n",
    "        s_values    = 0\n",
    "    try:\n",
    "        t_values    = groupedBy.where(F.col(column) == 'T').collect()[0]['count']\n",
    "    except:\n",
    "        t_values    = 0\n",
    "    try:\n",
    "        null_values = groupedBy.where(F.col(column).isNull()).collect()[0]['count']\n",
    "    except:\n",
    "        null_values = 0    \n",
    "        \n",
    "    schema = StructType([\n",
    "    StructField(\"qa_\",  StringType(),  True),\n",
    "    StructField(\"M\",    IntegerType(), True),\n",
    "    StructField(\"F\",    IntegerType(), True),\n",
    "    StructField(\"I\",    IntegerType(), True),\n",
    "    StructField(\"S\",    IntegerType(), True),\n",
    "    StructField(\"T\",    IntegerType(), True),\n",
    "    StructField(\"null\", IntegerType(), True)\n",
    "    ])\n",
    "    \n",
    "    data          = [(column, m_values, f_values, i_values, s_values, t_values, null_values)]\n",
    "    df_aux        = spark.getOrCreate().createDataFrame(data = data, schema = schema)\n",
    "    \n",
    "    mainDf = mainDf.union(df_aux)\n",
    "    return mainDf"
   ]
  },
  {
   "cell_type": "raw",
   "id": "00d049ec",
   "metadata": {},
   "source": [
    "#columns = ['qa_','M', 'F', 'I', 'S', 'T', 'null']\n",
    "schema = StructType([\n",
    "    StructField(\"qa_\",  StringType(),    True),\n",
    "    StructField(\"M\",    IntegerType(),   True),\n",
    "    StructField(\"F\",    IntegerType(),   True),\n",
    "    StructField(\"I\",    IntegerType(),   True),\n",
    "    StructField(\"S\",    IntegerType(),   True),\n",
    "    StructField(\"T\",    IntegerType(),   True),\n",
    "    StructField(\"null\", IntegerType(),   True)\n",
    "])\n",
    "\n",
    "dummy  = []\n",
    "mainDf = spark.getOrCreate().createDataFrame(data = dummy, schema = schema)\n",
    "#mainDf.show()\n",
    "\n",
    "contador = 0\n",
    "for column in df.schema.names:\n",
    "    if 'qa_' in column:\n",
    "        groupedBy = df.groupBy(column).count()\n",
    "        mainDf    = creating_dataframe(groupedBy, mainDf, column)\n",
    "\n",
    "mainDf.write.mode('overwrite').parquet('../data/datasets_relatorios/qualidade.parquet')"
   ]
  },
  {
   "cell_type": "code",
   "execution_count": 4,
   "id": "05681908",
   "metadata": {},
   "outputs": [
    {
     "name": "stdout",
     "output_type": "stream",
     "text": [
      "+-------------------+---+---+---+---+----+-----+\n",
      "|                qa_|  M|  F|  I|  S|   T| null|\n",
      "+-------------------+---+---+---+---+----+-----+\n",
      "|qa_distance_airtime| 75|  0|  0|  0|9925|    0|\n",
      "| flights_qa_tailnum|  0|435|  0| 58|   0| 9507|\n",
      "|  qa_year_month_day|  0|  0|  0|  0|   0|10000|\n",
      "|  planes_qa_tailnum|  0|  0|  0| 44|   0| 9956|\n",
      "|   qa_dep_arr_delay| 75|  0|  0|  0|   0| 9925|\n",
      "+-------------------+---+---+---+---+----+-----+\n",
      "only showing top 5 rows\n",
      "\n"
     ]
    }
   ],
   "source": [
    "qualidade_data  = '../data/datasets_relatorios/qualidade.parquet'\n",
    "\n",
    "\n",
    "qualidade = (spark.getOrCreate().read\n",
    "                  .format(\"parquet\")\n",
    "                  .option(\"header\", \"true\")\n",
    "                  .load(qualidade_data))\n",
    "\n",
    "qualidade.show(5)"
   ]
  },
  {
   "cell_type": "markdown",
   "id": "a1a1a86e",
   "metadata": {},
   "source": [
    "### Checar flights_qa_tailnum, qa_dep_arr, planes_qa_tailnum \n",
    "\n",
    "### qa_manufacturer -> classificações C não entraram no dataset\n",
    "### qa_enginge          -> classificações C não entraram no dataset\n"
   ]
  },
  {
   "cell_type": "code",
   "execution_count": 5,
   "id": "a4526ff9",
   "metadata": {},
   "outputs": [],
   "source": [
    "qualidade.createOrReplaceTempView('qualidade')"
   ]
  },
  {
   "cell_type": "code",
   "execution_count": 112,
   "id": "27577bd1",
   "metadata": {},
   "outputs": [
    {
     "name": "stdout",
     "output_type": "stream",
     "text": [
      "+-------------------+----+----+---+---+----+-----+----------------+\n",
      "|                qa_|   M|   F|  I|  S|   T| null|check_quantidade|\n",
      "+-------------------+----+----+---+---+----+-----+----------------+\n",
      "|qa_distance_airtime|  75|   0|  0|  0|9925|    0|           10000|\n",
      "| flights_qa_tailnum|   0| 435|  0| 58|   0| 9507|           10000|\n",
      "|  qa_year_month_day|   0|   0|  0|  0|   0|10000|           10000|\n",
      "|  planes_qa_tailnum|   0|   0|  0| 44|   0| 9956|           10000|\n",
      "|   qa_dep_arr_delay|  75|   0|  0|  0|   0| 9925|           10000|\n",
      "|    qa_dep_arr_time|   0| 290|  0|  0|   0| 9710|           10000|\n",
      "|    qa_manufacturer|   0|   0|  0|  0|   0| 8356|            8356|\n",
      "|     qa_hour_minute|  48|   0|  1|  0|   0| 9951|           10000|\n",
      "|     qa_origin_dest|   0|   0|  0|  0|   0|10000|           10000|\n",
      "|     origin_qa_name|   0|   0|  0|  0|   0|10000|           10000|\n",
      "|      origin_qa_faa|   0|   0|  0|  0|   0|10000|           10000|\n",
      "|      origin_qa_lat|   0|   0|  0|  0|   0|10000|           10000|\n",
      "|      origin_qa_lon|   0|   0|  0|  0|   0|10000|           10000|\n",
      "|      origin_qa_alt|   0|   0|  0|  0|   0|10000|           10000|\n",
      "|      origin_qa_dst|   0|   0|  0|  0|   0|10000|           10000|\n",
      "|       origin_qa_tz|   0|   0|  0|  0|   0|10000|           10000|\n",
      "|       dest_qa_name|   0|   0|  0|  0|   0|10000|           10000|\n",
      "|        qa_air_time|  75|   0|  0|  0|   0| 9925|           10000|\n",
      "|        qa_distance|   0|   0|  0|  0|   0|10000|           10000|\n",
      "|        dest_qa_faa|   0|   0|  0|  0|   0|10000|           10000|\n",
      "|        dest_qa_lat|   0|   0|  0|  0|   0|10000|           10000|\n",
      "|        dest_qa_lon|   0|   0|  0|  0|   0|10000|           10000|\n",
      "|        dest_qa_alt|   0|   0|  0|  0|   0|10000|           10000|\n",
      "|        dest_qa_dst|   0|   0|  0|  0|   0|10000|           10000|\n",
      "|         qa_carrier|   0|   0|  0|  0|   0|10000|           10000|\n",
      "|         dest_qa_tz|   0|   0|  0|  0|   0|10000|           10000|\n",
      "|         qa_engines|   0|   0|  0|  0|   0|10000|           10000|\n",
      "|         qa_enginge|   0|   0|  0|  0|   0| 9993|            9993|\n",
      "|          qa_flight|   0|6158|  0|  0|   0| 3842|           10000|\n",
      "|           qa_model|   0|   9|  0|  0|   0| 9991|           10000|\n",
      "|           qa_seats|   0|   0|  0|  0|   0|10000|           10000|\n",
      "|           qa_speed|9443|   0|  0|  0|   0|  557|           10000|\n",
      "|            qa_type|   0|   0|  0|  0|   0|10000|           10000|\n",
      "|            qa_year|  94|   0|  8|  0|   0| 9898|           10000|\n",
      "+-------------------+----+----+---+---+----+-----+----------------+\n",
      "\n"
     ]
    }
   ],
   "source": [
    "#qualidade.withColumn('check_quantidade',(\n",
    "#                    qualidade.M + qualidade.F + qualidade.I + qualidade.S + qualidade.T + qualidade.null \n",
    "# )).show(100)"
   ]
  },
  {
   "cell_type": "code",
   "execution_count": 130,
   "id": "0f6275dd",
   "metadata": {},
   "outputs": [],
   "source": [
    "#qualidade.show(100)"
   ]
  },
  {
   "cell_type": "markdown",
   "id": "259e0f3c",
   "metadata": {},
   "source": [
    "### Pergunta 3"
   ]
  },
  {
   "cell_type": "code",
   "execution_count": 6,
   "id": "02cbe452",
   "metadata": {},
   "outputs": [
    {
     "name": "stdout",
     "output_type": "stream",
     "text": [
      "+-------------------+------+\n",
      "|                qa_|max(M)|\n",
      "+-------------------+------+\n",
      "|           qa_speed|  9443|\n",
      "|            qa_year|    94|\n",
      "|   qa_dep_arr_delay|    75|\n",
      "|qa_distance_airtime|    75|\n",
      "|        qa_air_time|    75|\n",
      "+-------------------+------+\n",
      "only showing top 5 rows\n",
      "\n",
      "+-------------------+----+---+---+---+----+----+\n",
      "|                qa_|   M|  F|  I|  S|   T|null|\n",
      "+-------------------+----+---+---+---+----+----+\n",
      "|           qa_speed|9443|  0|  0|  0|   0| 557|\n",
      "|            qa_year|  94|  0|  8|  0|   0|9898|\n",
      "|qa_distance_airtime|  75|  0|  0|  0|9925|   0|\n",
      "|   qa_dep_arr_delay|  75|  0|  0|  0|   0|9925|\n",
      "|        qa_air_time|  75|  0|  0|  0|   0|9925|\n",
      "+-------------------+----+---+---+---+----+----+\n",
      "\n"
     ]
    }
   ],
   "source": [
    "qualidade.groupby('qa_').agg({'M': 'max'}).sort('max(M)', ascending = False).show(5)\n",
    "\n",
    "spark.getOrCreate().sql('''\n",
    "            SELECT *\n",
    "            FROM qualidade\n",
    "            ORDER BY M DESC \n",
    "            LIMIT 5\n",
    "''').show()"
   ]
  },
  {
   "cell_type": "markdown",
   "id": "a9812c34",
   "metadata": {},
   "source": [
    "### Pergunta 4"
   ]
  },
  {
   "cell_type": "code",
   "execution_count": 12,
   "id": "12c95484",
   "metadata": {},
   "outputs": [
    {
     "name": "stdout",
     "output_type": "stream",
     "text": [
      "+------------------+------+\n",
      "|               qa_|max(F)|\n",
      "+------------------+------+\n",
      "|         qa_flight|  6158|\n",
      "|flights_qa_tailnum|   435|\n",
      "|   qa_dep_arr_time|   290|\n",
      "|          qa_model|     9|\n",
      "| qa_year_month_day|     0|\n",
      "+------------------+------+\n",
      "only showing top 5 rows\n",
      "\n",
      "+-------------------+---+----+---+---+----+----+\n",
      "|                qa_|  M|   F|  I|  S|   T|null|\n",
      "+-------------------+---+----+---+---+----+----+\n",
      "|          qa_flight|  0|6158|  0|  0|   0|3842|\n",
      "| flights_qa_tailnum|  0| 435|  0| 58|   0|9507|\n",
      "|    qa_dep_arr_time|  0| 290|  0|  0|   0|9710|\n",
      "|           qa_model|  0|   9|  0|  0|   0|9991|\n",
      "|qa_distance_airtime| 75|   0|  0|  0|9925|   0|\n",
      "+-------------------+---+----+---+---+----+----+\n",
      "\n"
     ]
    }
   ],
   "source": [
    "qualidade.groupby('qa_').agg({'F': 'max'}).sort('max(F)', ascending = False).show(5)\n",
    "\n",
    "spark.getOrCreate().sql('''\n",
    "    SELECT * \n",
    "    FROM qualidade\n",
    "    ORDER BY F desc\n",
    "    LIMIT 5\n",
    "''').show()"
   ]
  },
  {
   "cell_type": "markdown",
   "id": "5f362340",
   "metadata": {},
   "source": [
    "### Pergunta 5"
   ]
  },
  {
   "cell_type": "code",
   "execution_count": 13,
   "id": "767aad00",
   "metadata": {},
   "outputs": [
    {
     "name": "stdout",
     "output_type": "stream",
     "text": [
      "+------------------+------+\n",
      "|               qa_|max(I)|\n",
      "+------------------+------+\n",
      "|           qa_year|     8|\n",
      "|    qa_hour_minute|     1|\n",
      "| qa_year_month_day|     0|\n",
      "|flights_qa_tailnum|     0|\n",
      "| planes_qa_tailnum|     0|\n",
      "+------------------+------+\n",
      "only showing top 5 rows\n",
      "\n",
      "+-------------------+---+---+---+---+----+-----+\n",
      "|                qa_|  M|  F|  I|  S|   T| null|\n",
      "+-------------------+---+---+---+---+----+-----+\n",
      "|            qa_year| 94|  0|  8|  0|   0| 9898|\n",
      "|     qa_hour_minute| 48|  0|  1|  0|   0| 9951|\n",
      "|qa_distance_airtime| 75|  0|  0|  0|9925|    0|\n",
      "| flights_qa_tailnum|  0|435|  0| 58|   0| 9507|\n",
      "|  qa_year_month_day|  0|  0|  0|  0|   0|10000|\n",
      "+-------------------+---+---+---+---+----+-----+\n",
      "\n"
     ]
    }
   ],
   "source": [
    "qualidade.groupby('qa_').agg({'I': 'max'}).sort('max(I)', ascending = False).show(5)\n",
    "\n",
    "spark.getOrCreate().sql('''\n",
    "        SELECT *\n",
    "        FROM qualidade\n",
    "        ORDER BY I desc\n",
    "        LIMIT 5\n",
    "''').show()"
   ]
  },
  {
   "cell_type": "markdown",
   "id": "cbef1843",
   "metadata": {},
   "source": [
    "### Perguntas para Negócio"
   ]
  },
  {
   "cell_type": "code",
   "execution_count": 54,
   "id": "50904d88",
   "metadata": {},
   "outputs": [],
   "source": [
    "airports_proc_path_data = '../data/datasets_transformados/airports.parquet'\n",
    "planes_proc_path_data   = '../data/datasets_transformados/planes.parquet'\n",
    "flights_proc_path_data  = '../data/datasets_transformados/flights.parquet'\n",
    "\n",
    "\n",
    "airports_proc = (spark.getOrCreate().read\n",
    "                  .format(\"parquet\")\n",
    "                  .option(\"header\", \"true\")\n",
    "                  .load(airports_proc_path_data))\n",
    "\n",
    "planes_proc   = (spark.getOrCreate().read\n",
    "                  .format(\"parquet\")\n",
    "                  .option(\"header\", \"true\")\n",
    "                  .load(planes_proc_path_data))\n",
    "\n",
    "flights_proc  = (spark.getOrCreate().read\n",
    "                  .format(\"parquet\")\n",
    "                  .option(\"header\", \"true\")\n",
    "                  .load(flights_proc_path_data))\n",
    "\n"
   ]
  },
  {
   "cell_type": "raw",
   "id": "5cda1cbf",
   "metadata": {},
   "source": [
    "airports_origin_proc = airports_proc\n",
    "airports_dest_proc   = airports_proc\n",
    "\n",
    "\n",
    "for column_name in flights_proc.schema.names: \n",
    "    flights_proc = (flights_proc.withColumnRenamed(column_name, f\"flights_{column_name}\"))\n",
    "\n",
    "for column_name in planes_proc.schema.names: \n",
    "    planes_proc = (planes_proc.withColumnRenamed(column_name, f\"planes_{column_name}\"))    \n",
    "\n",
    "for column_name in airports_proc.schema.names: \n",
    "    airports_origin_proc = (airports_origin_proc.withColumnRenamed(column_name, f\"origin_{column_name}\"))\n",
    "    airports_dest_proc   = (airports_dest_proc.withColumnRenamed(column_name, f\"dest_{column_name}\"))"
   ]
  },
  {
   "cell_type": "raw",
   "id": "8b154ba1",
   "metadata": {},
   "source": [
    "df2 = flights_proc.join(airports_origin_proc, flights_proc.flights_origin == airports_origin_proc.origin_faa, 'left')\n",
    "df2 = df2.join(airports_dest_proc, df2.flights_dest == airports_dest_proc.dest_faa, 'left')\n",
    "df2 = df2.join(planes_proc, df2.flights_tailnum == planes_proc.planes_tailnum, 'left' )"
   ]
  },
  {
   "cell_type": "raw",
   "id": "52d0da4a",
   "metadata": {},
   "source": [
    "df2.write.mode('overwrite').parquet('../data/datasets_relatorios/transformado1.parquet')\n"
   ]
  },
  {
   "cell_type": "code",
   "execution_count": 22,
   "id": "c4fd71a4",
   "metadata": {},
   "outputs": [],
   "source": [
    "df2 = (spark.getOrCreate().read\n",
    "                  .format(\"parquet\")\n",
    "                  .option(\"header\", \"true\")\n",
    "                  .load('../data/datasets_relatorios/transformado1.parquet'))\n",
    "\n",
    "df2.createOrReplaceTempView('df2')"
   ]
  },
  {
   "cell_type": "code",
   "execution_count": 15,
   "id": "566ac787",
   "metadata": {},
   "outputs": [],
   "source": [
    "#df2.schema.names"
   ]
  },
  {
   "cell_type": "markdown",
   "id": "ba7ca0ae",
   "metadata": {},
   "source": [
    "### Pergunta 2"
   ]
  },
  {
   "cell_type": "raw",
   "id": "723250b5",
   "metadata": {},
   "source": [
    "df2.groupBy('dest_region', 'origin_region').agg({'dest_name': 'count',\n",
    "                                                 'origin_name': 'count'\n",
    "                                                }).show()"
   ]
  },
  {
   "cell_type": "code",
   "execution_count": 64,
   "id": "42a3c76c",
   "metadata": {},
   "outputs": [
    {
     "name": "stdout",
     "output_type": "stream",
     "text": [
      "+-------------+-----+\n",
      "|  dest_region|count|\n",
      "+-------------+-----+\n",
      "|       ALASKA|    9|\n",
      "|MAINLAND-EAST|   24|\n",
      "|MAINLAND-WEST|   36|\n",
      "+-------------+-----+\n",
      "\n",
      "+-------------+-----+\n",
      "|origin_region|count|\n",
      "+-------------+-----+\n",
      "|MAINLAND-WEST|    2|\n",
      "+-------------+-----+\n",
      "\n",
      "******SQL******\n",
      "\n",
      "+-------------+-----+\n",
      "|  dest_region|count|\n",
      "+-------------+-----+\n",
      "|       ALASKA|    9|\n",
      "|MAINLAND-EAST|   24|\n",
      "|MAINLAND-WEST|   36|\n",
      "+-------------+-----+\n",
      "\n",
      "+-------------+-----+\n",
      "|origin_region|count|\n",
      "+-------------+-----+\n",
      "|MAINLAND-WEST|    2|\n",
      "+-------------+-----+\n",
      "\n"
     ]
    }
   ],
   "source": [
    "df2.groupBy('dest_region').agg(F.countDistinct('dest_region', 'dest_name').alias('count')).show()\n",
    "df2.groupBy('origin_region').agg(F.countDistinct('origin_region', 'origin_name').alias('count')).show()\n",
    "\n",
    "print('******SQL******\\n')\n",
    "\n",
    "spark.getOrCreate().sql('''\n",
    "            SELECT dest_region,\n",
    "            COUNT (DISTINCT dest_name) as count\n",
    "            FROM df2\n",
    "            GROUP BY dest_region\n",
    "''').show()\n",
    "\n",
    "spark.getOrCreate().sql('''\n",
    "            SELECT origin_region,\n",
    "            COUNT (DISTINCT origin_name) as count\n",
    "            FROM df2\n",
    "            GROUP BY origin_region\n",
    "''').show()"
   ]
  },
  {
   "cell_type": "markdown",
   "id": "6b3a730a",
   "metadata": {},
   "source": [
    "### Pergunta 3"
   ]
  },
  {
   "cell_type": "code",
   "execution_count": 42,
   "id": "902cad21",
   "metadata": {},
   "outputs": [],
   "source": [
    "df2 = df2.withColumn('aux_alt',(\n",
    "                F.when((df2.origin_alt - df2.dest_alt > 0), df2.origin_alt - df2.dest_alt)\n",
    "                .otherwise(None)\n",
    "))"
   ]
  },
  {
   "cell_type": "code",
   "execution_count": 65,
   "id": "1d0d524a",
   "metadata": {},
   "outputs": [
    {
     "name": "stdout",
     "output_type": "stream",
     "text": [
      "+--------------+------------+-------+\n",
      "|flights_origin|flights_dest|aux_alt|\n",
      "+--------------+------------+-------+\n",
      "|           SEA|         MSY|    429|\n",
      "|           SEA|         MIA|    425|\n",
      "|           SEA|         OAK|    424|\n",
      "|           SEA|         FLL|    424|\n",
      "|           SEA|         SBA|    423|\n",
      "+--------------+------------+-------+\n",
      "only showing top 5 rows\n",
      "\n",
      "******SQL******\n",
      "\n",
      "+--------------+------------+--------+\n",
      "|flights_origin|flights_dest|diff_alt|\n",
      "+--------------+------------+--------+\n",
      "|           SEA|         MSY|     429|\n",
      "|           SEA|         MIA|     425|\n",
      "|           SEA|         OAK|     424|\n",
      "|           SEA|         FLL|     424|\n",
      "|           SEA|         SBA|     423|\n",
      "+--------------+------------+--------+\n",
      "\n"
     ]
    }
   ],
   "source": [
    "#df2.groupBy('dest_region', 'origin_region').agg({'aux_alt': 'max'}).sort('max(aux_alt)', ascending =False).show(5)\n",
    "df2.select('flights_origin','flights_dest','aux_alt').distinct().sort('aux_alt', ascending = False).show(5)\n",
    "\n",
    "print('******SQL******\\n')\n",
    "\n",
    "spark.getOrCreate().sql('''\n",
    "            SELECT \n",
    "                distinct \n",
    "                flights_origin,\n",
    "                flights_dest,\n",
    "                    CASE \n",
    "                        WHEN\n",
    "                            origin_alt - dest_alt > 0 THEN origin_alt - dest_alt\n",
    "                            ELSE 0\n",
    "                        END AS diff_alt\n",
    "            from df2\n",
    "            ORDER BY diff_alt desc\n",
    "            limit 5\n",
    "''').show()"
   ]
  },
  {
   "cell_type": "markdown",
   "id": "9972eedd",
   "metadata": {},
   "source": [
    "### Pergunta 4"
   ]
  },
  {
   "cell_type": "code",
   "execution_count": 66,
   "id": "442bd4c5",
   "metadata": {},
   "outputs": [
    {
     "name": "stdout",
     "output_type": "stream",
     "text": [
      "+------------+\n",
      "|atraso médio|\n",
      "+------------+\n",
      "|          22|\n",
      "+------------+\n",
      "\n",
      "+------------+\n",
      "|atraso médio|\n",
      "+------------+\n",
      "|          23|\n",
      "+------------+\n",
      "\n",
      "******SQL******\n",
      "\n",
      "+----------------------------+\n",
      "|CEIL(avg(flights_dep_delay))|\n",
      "+----------------------------+\n",
      "|                          22|\n",
      "+----------------------------+\n",
      "\n",
      "+----------------------------+\n",
      "|CEIL(avg(flights_arr_delay))|\n",
      "+----------------------------+\n",
      "|                          23|\n",
      "+----------------------------+\n",
      "\n"
     ]
    }
   ],
   "source": [
    "#df2.select(F.mean('flights_dep_delay'), F.when(df2.flights_dep_delay > 0, 1)).show()\n",
    "#df2.select(F.mean('flights_arr_delay')).show()\n",
    "\n",
    "df2.where(df2.flights_dep_delay > 0).agg(F.ceil(F.mean('flights_dep_delay')).alias('atraso médio')).show()\n",
    "df2.where(df2.flights_arr_delay > 0).agg(F.ceil(F.mean('flights_arr_delay')).alias('atraso médio')).show()\n",
    "\n",
    "print('******SQL******\\n')\n",
    "\n",
    "spark.getOrCreate().sql('''\n",
    "            SELECT CEIL(AVG(flights_dep_delay))\n",
    "            FROM df2\n",
    "                WHERE flights_dep_delay >= 0      \n",
    "''').show()\n",
    "\n",
    "spark.getOrCreate().sql('''\n",
    "            SELECT CEIL(AVG(flights_arr_delay))\n",
    "            FROM df2\n",
    "                WHERE flights_arr_delay >= 0      \n",
    "''').show()"
   ]
  },
  {
   "cell_type": "markdown",
   "id": "7aa6849c",
   "metadata": {},
   "source": [
    "### Pergunta 5"
   ]
  },
  {
   "cell_type": "code",
   "execution_count": 102,
   "id": "83a56279",
   "metadata": {},
   "outputs": [
    {
     "name": "stdout",
     "output_type": "stream",
     "text": [
      "+-------------+-------------+---------------------+\n",
      "|  dest_region|origin_region|avg_flights_dep_delay|\n",
      "+-------------+-------------+---------------------+\n",
      "|MAINLAND-EAST|MAINLAND-WEST|                26.33|\n",
      "|       ALASKA|MAINLAND-WEST|                20.82|\n",
      "|MAINLAND-WEST|MAINLAND-WEST|                25.98|\n",
      "+-------------+-------------+---------------------+\n",
      "\n",
      "+-------------+-------------+---------------------+\n",
      "|  dest_region|origin_region|avg_flights_arr_delay|\n",
      "+-------------+-------------+---------------------+\n",
      "|MAINLAND-EAST|MAINLAND-WEST|                28.53|\n",
      "|       ALASKA|MAINLAND-WEST|                22.21|\n",
      "|MAINLAND-WEST|MAINLAND-WEST|                23.79|\n",
      "+-------------+-------------+---------------------+\n",
      "\n",
      "******SQL******\n",
      "\n",
      "+-------------+-------------+---------------------+\n",
      "|  dest_region|origin_region|avg_flights_dep_delay|\n",
      "+-------------+-------------+---------------------+\n",
      "|MAINLAND-EAST|MAINLAND-WEST|                   22|\n",
      "|       ALASKA|MAINLAND-WEST|                   17|\n",
      "|MAINLAND-WEST|MAINLAND-WEST|                   23|\n",
      "+-------------+-------------+---------------------+\n",
      "\n",
      "+-------------+-------------+---------------------+\n",
      "|  dest_region|origin_region|avg_flights_arr_delay|\n",
      "+-------------+-------------+---------------------+\n",
      "|MAINLAND-EAST|MAINLAND-WEST|                   27|\n",
      "|       ALASKA|MAINLAND-WEST|                   21|\n",
      "|MAINLAND-WEST|MAINLAND-WEST|                   22|\n",
      "+-------------+-------------+---------------------+\n",
      "\n"
     ]
    }
   ],
   "source": [
    "df2.where(df2.flights_dep_delay > 0).groupBy('dest_region', 'origin_region').agg(F.round(F.mean(\"flights_dep_delay\"),2).alias('avg_flights_dep_delay')).show()\n",
    "df2.where(df2.flights_arr_delay > 0).groupBy('dest_region', 'origin_region').agg(F.round(F.mean(\"flights_arr_delay\"),2).alias('avg_flights_arr_delay')).show()\n",
    "\n",
    "print('******SQL******\\n')\n",
    "\n",
    "spark.getOrCreate().sql('''\n",
    "            SELECT distinct dest_region, \n",
    "                            origin_region,\n",
    "                            CEIL(avg(flights_dep_delay)) as avg_flights_dep_delay\n",
    "            FROM df2 \n",
    "            WHERE flights_dep_delay >=0\n",
    "            GROUP BY dest_region, origin_region\n",
    "''').show()\n",
    "\n",
    "spark.getOrCreate().sql('''\n",
    "            SELECT distinct dest_region, \n",
    "                            origin_region,\n",
    "                            CEIL(avg(flights_arr_delay)) as avg_flights_arr_delay\n",
    "            FROM df2 \n",
    "            WHERE flights_arr_delay >=0\n",
    "            GROUP BY dest_region, origin_region\n",
    "''').show()"
   ]
  },
  {
   "cell_type": "markdown",
   "id": "406a6047",
   "metadata": {},
   "source": [
    "### Pergunta 6"
   ]
  },
  {
   "cell_type": "code",
   "execution_count": 103,
   "id": "590b5a0c",
   "metadata": {},
   "outputs": [
    {
     "name": "stdout",
     "output_type": "stream",
     "text": [
      "+--------------------------+----------------------+\n",
      "|year(flights_dep_datetime)|sum(flights_dep_delay)|\n",
      "+--------------------------+----------------------+\n",
      "|                      2014|                 88314|\n",
      "+--------------------------+----------------------+\n",
      "\n",
      "+--------------------------+----------------------+\n",
      "|year(flights_dep_datetime)|sum(flights_arr_delay)|\n",
      "+--------------------------+----------------------+\n",
      "|                      2014|                 91820|\n",
      "+--------------------------+----------------------+\n",
      "\n",
      "******SQL******\n",
      "\n",
      "+--------------------------+---------------------+\n",
      "|year(flights_dep_datetime)|sum_flights_dep_delay|\n",
      "+--------------------------+---------------------+\n",
      "|                      2014|                88314|\n",
      "+--------------------------+---------------------+\n",
      "\n",
      "+--------------------------+---------------------+\n",
      "|year(flights_dep_datetime)|sum_flights_arr_delay|\n",
      "+--------------------------+---------------------+\n",
      "|                      2014|                91820|\n",
      "+--------------------------+---------------------+\n",
      "\n"
     ]
    }
   ],
   "source": [
    "df2.where(df2.flights_dep_delay > 0).groupBy(F.year('flights_dep_datetime')).agg({\"flights_dep_delay\": 'sum'}).show()\n",
    "df2.where(df2.flights_arr_delay > 0).groupBy(F.year('flights_dep_datetime')).agg({\"flights_arr_delay\": 'sum'}).show()\n",
    "\n",
    "print('******SQL******\\n')\n",
    "\n",
    "spark.getOrCreate().sql('''\n",
    "                SELECT  YEAR(flights_dep_datetime),\n",
    "                        SUM(flights_dep_delay) as sum_flights_dep_delay\n",
    "                FROM df2\n",
    "                where flights_dep_delay >= 0 \n",
    "                GROUP BY YEAR(flights_dep_datetime)\n",
    "\n",
    "''').show()\n",
    "\n",
    "spark.getOrCreate().sql('''\n",
    "                SELECT  YEAR(flights_dep_datetime),\n",
    "                        SUM(flights_arr_delay) as sum_flights_arr_delay\n",
    "                FROM df2\n",
    "                where flights_arr_delay >= 0 \n",
    "                GROUP BY YEAR(flights_dep_datetime)\n",
    "\n",
    "''').show()\n",
    "#df2.select('flights_dep_datetime').show(1)"
   ]
  },
  {
   "cell_type": "markdown",
   "id": "6fafeb4b",
   "metadata": {},
   "source": [
    "### Pergunta 7"
   ]
  },
  {
   "cell_type": "code",
   "execution_count": 79,
   "id": "92981b24",
   "metadata": {},
   "outputs": [
    {
     "name": "stdout",
     "output_type": "stream",
     "text": [
      "+--------------------------+-------------+----------------------+\n",
      "|year(flights_dep_datetime)|  dest_region|sum(flights_dep_delay)|\n",
      "+--------------------------+-------------+----------------------+\n",
      "|                      2014|       ALASKA|                  7515|\n",
      "|                      2014|MAINLAND-EAST|                 21538|\n",
      "|                      2014|MAINLAND-WEST|                 59261|\n",
      "+--------------------------+-------------+----------------------+\n",
      "\n",
      "+--------------------------+-------------+----------------------+\n",
      "|year(flights_dep_datetime)|  dest_region|sum(flights_arr_delay)|\n",
      "+--------------------------+-------------+----------------------+\n",
      "|                      2014|       ALASKA|                  8640|\n",
      "|                      2014|MAINLAND-EAST|                 22938|\n",
      "|                      2014|MAINLAND-WEST|                 60242|\n",
      "+--------------------------+-------------+----------------------+\n",
      "\n",
      "+--------------------------+-------------+----------------------+\n",
      "|year(flights_dep_datetime)|origin_region|sum(flights_dep_delay)|\n",
      "+--------------------------+-------------+----------------------+\n",
      "|                      2014|MAINLAND-WEST|                 88314|\n",
      "+--------------------------+-------------+----------------------+\n",
      "\n",
      "+--------------------------+-------------+----------------------+\n",
      "|year(flights_dep_datetime)|origin_region|sum(flights_arr_delay)|\n",
      "+--------------------------+-------------+----------------------+\n",
      "|                      2014|MAINLAND-WEST|                 91820|\n",
      "+--------------------------+-------------+----------------------+\n",
      "\n",
      "******SQL******\n",
      "\n",
      "+-------------+-------------+---------------------+\n",
      "|year_datetime|  dest_region|sum_flights_dep_delay|\n",
      "+-------------+-------------+---------------------+\n",
      "|         2014|       ALASKA|                 7515|\n",
      "|         2014|MAINLAND-EAST|                21538|\n",
      "|         2014|MAINLAND-WEST|                59261|\n",
      "+-------------+-------------+---------------------+\n",
      "\n"
     ]
    }
   ],
   "source": [
    "df2.where(df2.flights_dep_delay >= 0).groupBy(F.year('flights_dep_datetime'), 'dest_region',).agg({\"flights_dep_delay\": 'sum'}).show()\n",
    "df2.where(df2.flights_arr_delay >= 0).groupBy(F.year('flights_dep_datetime'), 'dest_region').agg({\"flights_arr_delay\": 'sum'}).show()\n",
    "\n",
    "df2.where(df2.flights_dep_delay >= 0).groupBy(F.year('flights_dep_datetime'), 'origin_region',).agg({\"flights_dep_delay\": 'sum'}).show()\n",
    "df2.where(df2.flights_arr_delay >= 0).groupBy(F.year('flights_dep_datetime'), 'origin_region').agg({\"flights_arr_delay\": 'sum'}).show()\n",
    "\n",
    "print('******SQL******\\n')\n",
    "\n",
    "spark.getOrCreate().sql('''\n",
    "            SELECT YEAR(flights_dep_datetime) as year_datetime,\n",
    "                   dest_region,\n",
    "                   SUM(flights_dep_delay) as sum_flights_dep_delay\n",
    "            FROM df2\n",
    "            WHERE flights_dep_delay >= 0\n",
    "            GROUP BY YEAR(flights_dep_datetime), dest_region        \n",
    "''').show()"
   ]
  },
  {
   "cell_type": "markdown",
   "id": "ef8b21c3",
   "metadata": {},
   "source": [
    "### Pergunta 8"
   ]
  },
  {
   "cell_type": "code",
   "execution_count": 80,
   "id": "c76eaa6b",
   "metadata": {},
   "outputs": [
    {
     "name": "stdout",
     "output_type": "stream",
     "text": [
      "+---------------------------+\n",
      "|CEIL(avg(flights_air_time))|\n",
      "+---------------------------+\n",
      "|                        153|\n",
      "+---------------------------+\n",
      "\n",
      "******SQL******\n",
      "\n",
      "+--------------------+\n",
      "|avg_flights_air_time|\n",
      "+--------------------+\n",
      "|                 153|\n",
      "+--------------------+\n",
      "\n"
     ]
    }
   ],
   "source": [
    "df2.select(F.ceil(F.mean('flights_air_time'))).show()\n",
    "\n",
    "print('******SQL******\\n')\n",
    "\n",
    "spark.getOrCreate().sql('''\n",
    "        SELECT ceil(avg(flights_air_time)) as avg_flights_air_time\n",
    "        FROM df2\n",
    "''').show()"
   ]
  },
  {
   "cell_type": "markdown",
   "id": "20985d68",
   "metadata": {},
   "source": [
    "### Pergunta 9"
   ]
  },
  {
   "cell_type": "code",
   "execution_count": 83,
   "id": "88504e33",
   "metadata": {},
   "outputs": [
    {
     "name": "stdout",
     "output_type": "stream",
     "text": [
      "+-------------+-------------------------+\n",
      "|  dest_region|avg_dest_flights_air_time|\n",
      "+-------------+-------------------------+\n",
      "|       ALASKA|                   227.87|\n",
      "|MAINLAND-EAST|                   237.11|\n",
      "|MAINLAND-WEST|                   115.39|\n",
      "+-------------+-------------------------+\n",
      "\n",
      "+-------------+----------------------------+\n",
      "|origin_region|avg_origin_flights_dep_delay|\n",
      "+-------------+----------------------------+\n",
      "|MAINLAND-WEST|                      152.87|\n",
      "+-------------+----------------------------+\n",
      "\n",
      "******SQL******\n",
      "\n",
      "+-------------+--------------------+\n",
      "|  dest_region|avg_flights_air_time|\n",
      "+-------------+--------------------+\n",
      "|       ALASKA|                 228|\n",
      "|MAINLAND-EAST|                 238|\n",
      "|MAINLAND-WEST|                 116|\n",
      "+-------------+--------------------+\n",
      "\n"
     ]
    }
   ],
   "source": [
    "df2.groupBy('dest_region',).agg(F.round(F.mean(\"flights_air_time\"),2).alias('avg_dest_flights_air_time')).show()\n",
    "\n",
    "df2.groupBy('origin_region',).agg(F.round(F.mean(\"flights_air_time\"),2).alias('avg_origin_flights_dep_delay')).show()\n",
    "\n",
    "print('******SQL******\\n')\n",
    "\n",
    "spark.getOrCreate().sql('''\n",
    "        SELECT dest_region,\n",
    "               CEIL(avg(flights_air_time)) as avg_flights_air_time\n",
    "        FROM df2\n",
    "        GROUP BY dest_region\n",
    "''').show()"
   ]
  },
  {
   "cell_type": "markdown",
   "id": "92dc77c3",
   "metadata": {},
   "source": [
    "### Pergunta 10"
   ]
  },
  {
   "cell_type": "code",
   "execution_count": 98,
   "id": "6ee99f4c",
   "metadata": {},
   "outputs": [],
   "source": [
    "df2 = df2.withColumn('origin_dest', (\n",
    "            F.concat_ws('-',df2.flights_origin, df2.flights_dest)\n",
    "))"
   ]
  },
  {
   "cell_type": "code",
   "execution_count": 86,
   "id": "7ad2105e",
   "metadata": {},
   "outputs": [
    {
     "name": "stdout",
     "output_type": "stream",
     "text": [
      "+--------------+------------+---------------------------+\n",
      "|flights_origin|flights_dest|CEIL(avg(flights_air_time))|\n",
      "+--------------+------------+---------------------------+\n",
      "|           SEA|         RNO|                         75|\n",
      "|           SEA|         DTW|                        220|\n",
      "|           SEA|         CLE|                        234|\n",
      "|           SEA|         LAX|                        127|\n",
      "|           PDX|         SEA|                         35|\n",
      "+--------------+------------+---------------------------+\n",
      "only showing top 5 rows\n",
      "\n",
      "******SQL******\n",
      "\n",
      "+--------------+------------+--------------------+\n",
      "|flights_origin|flights_dest|avg_flights_air_time|\n",
      "+--------------+------------+--------------------+\n",
      "|           SEA|         RNO|                  75|\n",
      "|           SEA|         DTW|                 220|\n",
      "|           SEA|         CLE|                 234|\n",
      "|           SEA|         LAX|                 127|\n",
      "|           PDX|         SEA|                  35|\n",
      "+--------------+------------+--------------------+\n",
      "\n"
     ]
    }
   ],
   "source": [
    "df2.groupBy('flights_origin', 'flights_dest').agg(F.ceil(F.mean('flights_air_time'))).show(5)\n",
    "\n",
    "print('******SQL******\\n')\n",
    "\n",
    "spark.getOrCreate().sql('''\n",
    "            SELECT flights_origin,\n",
    "                   flights_dest,\n",
    "                   ceil(avg(flights_air_time)) as avg_flights_air_time\n",
    "            FROM df2\n",
    "            GROUP BY flights_origin, flights_dest\n",
    "            LIMIT 5\n",
    "''').show()"
   ]
  },
  {
   "cell_type": "markdown",
   "id": "a92b7f60",
   "metadata": {},
   "source": [
    "### Pergunta 11"
   ]
  },
  {
   "cell_type": "code",
   "execution_count": 70,
   "id": "c0fb800f",
   "metadata": {},
   "outputs": [
    {
     "name": "stdout",
     "output_type": "stream",
     "text": [
      "+--------------------------+---------------------+\n",
      "|year(flights_dep_datetime)|sum(flights_air_time)|\n",
      "+--------------------------+---------------------+\n",
      "|                      2014|              1528696|\n",
      "+--------------------------+---------------------+\n",
      "\n"
     ]
    }
   ],
   "source": [
    "df2.groupBy(F.year('flights_dep_datetime')).agg({'flights_air_time': 'sum'}).show()"
   ]
  },
  {
   "cell_type": "markdown",
   "id": "4623d417",
   "metadata": {},
   "source": [
    "### Pergunta 12"
   ]
  },
  {
   "cell_type": "code",
   "execution_count": 71,
   "id": "910de42e",
   "metadata": {},
   "outputs": [
    {
     "name": "stdout",
     "output_type": "stream",
     "text": [
      "+-------------+---------------------+\n",
      "|  dest_region|sum(flights_air_time)|\n",
      "+-------------+---------------------+\n",
      "|       ALASKA|               230607|\n",
      "|MAINLAND-EAST|               508366|\n",
      "|MAINLAND-WEST|               789723|\n",
      "+-------------+---------------------+\n",
      "\n",
      "+-------------+---------------------+\n",
      "|origin_region|sum(flights_air_time)|\n",
      "+-------------+---------------------+\n",
      "|MAINLAND-WEST|              1528696|\n",
      "+-------------+---------------------+\n",
      "\n"
     ]
    }
   ],
   "source": [
    "df2.groupBy('dest_region').agg({'flights_air_time': 'sum'}).show()\n",
    "df2.groupBy('origin_region').agg({'flights_air_time': 'sum'}).show()"
   ]
  },
  {
   "cell_type": "markdown",
   "id": "87fc5738",
   "metadata": {},
   "source": [
    "### Pergunta 13"
   ]
  },
  {
   "cell_type": "code",
   "execution_count": 100,
   "id": "7f3479e8",
   "metadata": {},
   "outputs": [
    {
     "name": "stdout",
     "output_type": "stream",
     "text": [
      "+---------------------------+\n",
      "|CEIL(avg(flights_distance))|\n",
      "+---------------------------+\n",
      "|                       1209|\n",
      "+---------------------------+\n",
      "\n"
     ]
    }
   ],
   "source": [
    "df2.select(F.ceil(F.mean('flights_distance'))).show()"
   ]
  },
  {
   "cell_type": "markdown",
   "id": "6c9903d7",
   "metadata": {},
   "source": [
    "### Pergunta 14"
   ]
  },
  {
   "cell_type": "code",
   "execution_count": 103,
   "id": "1814e5de",
   "metadata": {},
   "outputs": [
    {
     "name": "stdout",
     "output_type": "stream",
     "text": [
      "+-------------+---------------------+\n",
      "|origin_region|avg(flights_distance)|\n",
      "+-------------+---------------------+\n",
      "|MAINLAND-WEST|            1208.1516|\n",
      "+-------------+---------------------+\n",
      "\n",
      "+-------------+---------------------+\n",
      "|  dest_region|avg(flights_distance)|\n",
      "+-------------+---------------------+\n",
      "|       ALASKA|    1741.653162055336|\n",
      "|MAINLAND-EAST|   2042.3983208955224|\n",
      "|MAINLAND-WEST|    867.9224137931035|\n",
      "+-------------+---------------------+\n",
      "\n"
     ]
    }
   ],
   "source": [
    "df2.groupBy('origin_region').agg({'flights_distance': 'avg'}).show()\n",
    "df2.groupBy('dest_region').agg({'flights_distance': 'avg'}).show()"
   ]
  },
  {
   "cell_type": "markdown",
   "id": "6679bec7",
   "metadata": {},
   "source": [
    "### Pergunta 15"
   ]
  },
  {
   "cell_type": "markdown",
   "id": "d2041087",
   "metadata": {},
   "source": [
    "#### Para negócios faz mais sentido ver a média das diferenças ou desvio padrão. Se esses valores não se aproximarem a 0 tem algo de errado.\n"
   ]
  },
  {
   "cell_type": "code",
   "execution_count": 126,
   "id": "f4d393ac",
   "metadata": {},
   "outputs": [
    {
     "name": "stdout",
     "output_type": "stream",
     "text": [
      "+--------------+------------+---------------------------+\n",
      "|flights_origin|flights_dest|CEIL(avg(flights_distance))|\n",
      "+--------------+------------+---------------------------+\n",
      "|SEA           |RNO         |564                        |\n",
      "|SEA           |DTW         |1927                       |\n",
      "|SEA           |CLE         |2021                       |\n",
      "|SEA           |LAX         |954                        |\n",
      "|PDX           |SEA         |129                        |\n",
      "+--------------+------------+---------------------------+\n",
      "only showing top 5 rows\n",
      "\n"
     ]
    }
   ],
   "source": [
    "df2.groupBy('flights_origin', 'flights_dest').agg(F.ceil(F.mean('flights_distance'))).show(5, truncate = False)"
   ]
  },
  {
   "cell_type": "markdown",
   "id": "5333af77",
   "metadata": {},
   "source": [
    "### Pergunta 16"
   ]
  },
  {
   "cell_type": "code",
   "execution_count": 75,
   "id": "30b18f63",
   "metadata": {},
   "outputs": [
    {
     "name": "stdout",
     "output_type": "stream",
     "text": [
      "+--------------------------+---------------------+\n",
      "|year(flights_dep_datetime)|sum(flights_distance)|\n",
      "+--------------------------+---------------------+\n",
      "|2014                      |12081516             |\n",
      "+--------------------------+---------------------+\n",
      "\n"
     ]
    }
   ],
   "source": [
    "df2.groupBy(F.year('flights_dep_datetime')).agg({'flights_distance': 'sum'}).show(5, truncate = False)"
   ]
  },
  {
   "cell_type": "markdown",
   "id": "e6d7b3f1",
   "metadata": {},
   "source": [
    "### Pergunta 17"
   ]
  },
  {
   "cell_type": "code",
   "execution_count": 76,
   "id": "3c98acd2",
   "metadata": {},
   "outputs": [
    {
     "name": "stdout",
     "output_type": "stream",
     "text": [
      "+--------------------------+-------------+---------------------+\n",
      "|year(flights_dep_datetime)|origin_region|sum(flights_distance)|\n",
      "+--------------------------+-------------+---------------------+\n",
      "|2014                      |MAINLAND-WEST|12081516             |\n",
      "+--------------------------+-------------+---------------------+\n",
      "\n",
      "+--------------------------+-------------+---------------------+\n",
      "|year(flights_dep_datetime)|dest_region  |sum(flights_distance)|\n",
      "+--------------------------+-------------+---------------------+\n",
      "|2014                      |ALASKA       |1762553              |\n",
      "|2014                      |MAINLAND-EAST|4378902              |\n",
      "|2014                      |MAINLAND-WEST|5940061              |\n",
      "+--------------------------+-------------+---------------------+\n",
      "\n"
     ]
    }
   ],
   "source": [
    "df2.groupBy(F.year('flights_dep_datetime'), 'origin_region').agg({'flights_distance': 'sum'}).show(5, truncate = False)\n",
    "df2.groupBy(F.year('flights_dep_datetime'), 'dest_region').agg({'flights_distance': 'sum'}).show(5, truncate = False)"
   ]
  },
  {
   "cell_type": "markdown",
   "id": "35cc258d",
   "metadata": {},
   "source": [
    "### Pergunta 18"
   ]
  },
  {
   "cell_type": "code",
   "execution_count": 125,
   "id": "39e930cf",
   "metadata": {},
   "outputs": [
    {
     "name": "stdout",
     "output_type": "stream",
     "text": [
      "+--------------+------------+------------+-----------------+\n",
      "|flights_origin|flights_dest|planes_seats|avg(planes_seats)|\n",
      "+--------------+------------+------------+-----------------+\n",
      "|           SEA|         PSP|         149|            149.0|\n",
      "|           PDX|         PHX|         199|            199.0|\n",
      "|           PDX|         EWR|         191|            191.0|\n",
      "|           PDX|         SJC|         149|            149.0|\n",
      "|           PDX|         SFO|         200|            200.0|\n",
      "+--------------+------------+------------+-----------------+\n",
      "only showing top 5 rows\n",
      "\n"
     ]
    }
   ],
   "source": [
    "df2.groupBy('flights_origin', 'flights_dest', 'planes_seats').agg({'planes_seats': 'avg'}).show(5)"
   ]
  },
  {
   "cell_type": "markdown",
   "id": "ccbd20aa",
   "metadata": {},
   "source": [
    "### Pergunta 19"
   ]
  },
  {
   "cell_type": "code",
   "execution_count": 107,
   "id": "f87bc39a",
   "metadata": {},
   "outputs": [
    {
     "name": "stdout",
     "output_type": "stream",
     "text": [
      "+--------------------------+-----------------+\n",
      "|year(flights_dep_datetime)|sum(planes_seats)|\n",
      "+--------------------------+-----------------+\n",
      "|                      2014|        1509544.0|\n",
      "+--------------------------+-----------------+\n",
      "\n"
     ]
    }
   ],
   "source": [
    "df2.groupBy(F.year('flights_dep_datetime')).agg({'planes_seats': 'sum'}).show()"
   ]
  },
  {
   "cell_type": "markdown",
   "id": "9437d594",
   "metadata": {},
   "source": [
    "### Pergunta 20"
   ]
  },
  {
   "cell_type": "code",
   "execution_count": 79,
   "id": "b94f84c5",
   "metadata": {},
   "outputs": [
    {
     "name": "stdout",
     "output_type": "stream",
     "text": [
      "+------------+-------------------+\n",
      "|flights_dest|count(flights_dest)|\n",
      "+------------+-------------------+\n",
      "|         SFO|                787|\n",
      "|         LAX|                615|\n",
      "|         DEN|                586|\n",
      "|         PHX|                530|\n",
      "|         LAS|                520|\n",
      "+------------+-------------------+\n",
      "only showing top 5 rows\n",
      "\n"
     ]
    }
   ],
   "source": [
    "df2.groupBy('flights_dest').agg({'flights_dest': 'count'}).sort('count(flights_dest)', ascending = False).show(5)"
   ]
  },
  {
   "cell_type": "markdown",
   "id": "d8d7f79c",
   "metadata": {},
   "source": [
    "### Pergunta 21"
   ]
  },
  {
   "cell_type": "code",
   "execution_count": 80,
   "id": "3fe1fcf3",
   "metadata": {},
   "outputs": [
    {
     "name": "stdout",
     "output_type": "stream",
     "text": [
      "+------------+-----------------+\n",
      "|flights_dest|sum(planes_seats)|\n",
      "+------------+-----------------+\n",
      "|         SFO|         119635.0|\n",
      "|         PHX|          96317.0|\n",
      "|         LAX|          91406.0|\n",
      "|         DEN|          88218.0|\n",
      "|         LAS|          76354.0|\n",
      "+------------+-----------------+\n",
      "only showing top 5 rows\n",
      "\n"
     ]
    }
   ],
   "source": [
    "df2.groupBy('flights_dest').agg({'planes_seats': 'sum'}).sort('sum(planes_seats)', ascending = False).show(5)"
   ]
  },
  {
   "cell_type": "markdown",
   "id": "02be2ff2",
   "metadata": {},
   "source": [
    "### Pergunta 22"
   ]
  },
  {
   "cell_type": "code",
   "execution_count": 94,
   "id": "6b188c2f",
   "metadata": {},
   "outputs": [
    {
     "name": "stdout",
     "output_type": "stream",
     "text": [
      "+--------------+------------+---------------------+\n",
      "|flights_origin|flights_dest|max(flights_distance)|\n",
      "+--------------+------------+---------------------+\n",
      "|           PDX|         LIH|                 2631|\n",
      "|           PDX|         KOA|                 2607|\n",
      "|           PDX|         HNL|                 2603|\n",
      "|           PDX|         OGG|                 2562|\n",
      "|           PDX|         BOS|                 2537|\n",
      "+--------------+------------+---------------------+\n",
      "only showing top 5 rows\n",
      "\n"
     ]
    }
   ],
   "source": [
    "df2.groupBy('flights_origin', 'flights_dest').agg({'flights_distance': 'max'}).filter(df2.flights_origin == 'PDX').sort('max(flights_distance)', ascending = False).show(5)"
   ]
  },
  {
   "cell_type": "markdown",
   "id": "f8e84e80",
   "metadata": {},
   "source": [
    "### Pergunta 23"
   ]
  },
  {
   "cell_type": "code",
   "execution_count": 112,
   "id": "3a19f7d6",
   "metadata": {},
   "outputs": [
    {
     "name": "stdout",
     "output_type": "stream",
     "text": [
      "+------------+-----+-----+\n",
      "|flights_dest|month|count|\n",
      "+------------+-----+-----+\n",
      "|         LAX|    5|   77|\n",
      "|         SFO|   12|   76|\n",
      "|         SFO|    8|   75|\n",
      "|         SFO|    5|   73|\n",
      "|         SFO|    7|   71|\n",
      "+------------+-----+-----+\n",
      "only showing top 5 rows\n",
      "\n"
     ]
    }
   ],
   "source": [
    "df2.groupBy('flights_dest', F.month('flights_dep_datetime').alias('month')).count().sort('count', ascending = False).show(5)"
   ]
  },
  {
   "cell_type": "markdown",
   "id": "9da90882",
   "metadata": {},
   "source": [
    "### Pergunta 24"
   ]
  },
  {
   "cell_type": "code",
   "execution_count": 83,
   "id": "e63ba1fe",
   "metadata": {},
   "outputs": [
    {
     "name": "stdout",
     "output_type": "stream",
     "text": [
      "+------------+-----+\n",
      "|planes_model|count|\n",
      "+------------+-----+\n",
      "|     737-890| 1463|\n",
      "|     737-7H4|  851|\n",
      "|   737-990ER|  664|\n",
      "|    A320-232|  612|\n",
      "|     737-790|  581|\n",
      "+------------+-----+\n",
      "only showing top 5 rows\n",
      "\n"
     ]
    }
   ],
   "source": [
    "df2.groupBy('planes_model').count().sort('count', ascending = False).show(5)"
   ]
  },
  {
   "cell_type": "markdown",
   "id": "17293e53",
   "metadata": {},
   "source": [
    "### Pergunta 25"
   ]
  },
  {
   "cell_type": "code",
   "execution_count": 84,
   "id": "31674c0f",
   "metadata": {},
   "outputs": [
    {
     "name": "stdout",
     "output_type": "stream",
     "text": [
      "+------------+------------+-----+\n",
      "|planes_model|flights_dest|count|\n",
      "+------------+------------+-----+\n",
      "|     737-7H4|         OAK|  141|\n",
      "|     737-890|         ANC|  138|\n",
      "|     737-790|         SNA|  122|\n",
      "|     737-7H4|         SMF|  114|\n",
      "|     737-890|         LAX|  110|\n",
      "+------------+------------+-----+\n",
      "only showing top 5 rows\n",
      "\n"
     ]
    }
   ],
   "source": [
    "df2.where(df2.planes_model.isNotNull()).groupby('planes_model', 'flights_dest').count().sort('count', ascending = False).show(5)"
   ]
  },
  {
   "cell_type": "markdown",
   "id": "c33669f4",
   "metadata": {},
   "source": [
    "### Pergunta 26"
   ]
  },
  {
   "cell_type": "code",
   "execution_count": 101,
   "id": "488dbfa8",
   "metadata": {},
   "outputs": [
    {
     "name": "stdout",
     "output_type": "stream",
     "text": [
      "+---------------------+-----------+\n",
      "|flights_haul_duration|avg_engines|\n",
      "+---------------------+-----------+\n",
      "|            LONG-HAUL|          2|\n",
      "|          MEDIUM-HAUL|          2|\n",
      "|           SHORT-HAUL|          2|\n",
      "+---------------------+-----------+\n",
      "\n"
     ]
    }
   ],
   "source": [
    "df2.where(df2.planes_engines.isNotNull()).groupBy('flights_haul_duration').agg(F.ceil(F.mean(df2.planes_engines)).alias('avg_engines')).sort('avg_engines').show()"
   ]
  },
  {
   "cell_type": "markdown",
   "id": "1dccad81",
   "metadata": {},
   "source": [
    "### Pergunta 27"
   ]
  },
  {
   "cell_type": "code",
   "execution_count": 86,
   "id": "0034af27",
   "metadata": {},
   "outputs": [
    {
     "name": "stdout",
     "output_type": "stream",
     "text": [
      "+------------------+-------------------------+\n",
      "|flights_dep_season|count(flights_dep_season)|\n",
      "+------------------+-------------------------+\n",
      "|            WINTER|                     2149|\n",
      "|            SPRING|                     2560|\n",
      "|              FALL|                     2373|\n",
      "|            SUMMER|                     2918|\n",
      "+------------------+-------------------------+\n",
      "\n"
     ]
    }
   ],
   "source": [
    "df2.groupBy('flights_dep_season').agg({'flights_dep_season': 'count'}).show()"
   ]
  },
  {
   "cell_type": "markdown",
   "id": "c50f114b",
   "metadata": {},
   "source": [
    "### Pergunta 28"
   ]
  },
  {
   "cell_type": "code",
   "execution_count": 88,
   "id": "d0200192",
   "metadata": {},
   "outputs": [
    {
     "name": "stdout",
     "output_type": "stream",
     "text": [
      "+------------------+------------+-----+\n",
      "|flights_dep_season|flights_dest|count|\n",
      "+------------------+------------+-----+\n",
      "|            SUMMER|         SFO|  217|\n",
      "|            SPRING|         SFO|  199|\n",
      "|              FALL|         SFO|  198|\n",
      "|            SPRING|         LAX|  176|\n",
      "|            WINTER|         SFO|  173|\n",
      "|            SUMMER|         DEN|  172|\n",
      "|            SUMMER|         LAX|  163|\n",
      "|            SPRING|         DEN|  151|\n",
      "|            SPRING|         PHX|  148|\n",
      "|              FALL|         DEN|  145|\n",
      "|            SPRING|         LAS|  145|\n",
      "|            SUMMER|         ANC|  145|\n",
      "|            WINTER|         LAX|  139|\n",
      "|              FALL|         LAX|  137|\n",
      "|            SUMMER|         LAS|  136|\n",
      "|            SUMMER|         PHX|  134|\n",
      "|            WINTER|         PHX|  131|\n",
      "|              FALL|         LAS|  130|\n",
      "|            SUMMER|         ORD|  129|\n",
      "|            SUMMER|         DFW|  122|\n",
      "+------------------+------------+-----+\n",
      "only showing top 20 rows\n",
      "\n"
     ]
    }
   ],
   "source": [
    "df2.groupBy('flights_dep_season', 'flights_dest').count().sort('count', ascending = False).show()"
   ]
  },
  {
   "cell_type": "markdown",
   "id": "10d8bd70",
   "metadata": {},
   "source": [
    "### Pergunta 29"
   ]
  },
  {
   "cell_type": "code",
   "execution_count": 94,
   "id": "63568d64",
   "metadata": {},
   "outputs": [
    {
     "name": "stdout",
     "output_type": "stream",
     "text": [
      "+--------------------------+-----+\n",
      "|flights_dep_delay_category|count|\n",
      "+--------------------------+-----+\n",
      "|                     MAJOR|  395|\n",
      "|                     MINOR| 3065|\n",
      "|                    INTIME|  646|\n",
      "+--------------------------+-----+\n",
      "\n"
     ]
    }
   ],
   "source": [
    "df2.where(df2.flights_dep_delay_category != 'ANTECIPATED').groupBy('flights_dep_delay_category').count().show()"
   ]
  },
  {
   "cell_type": "markdown",
   "id": "9ca59c82",
   "metadata": {},
   "source": [
    "### Pergunta 30"
   ]
  },
  {
   "cell_type": "code",
   "execution_count": 91,
   "id": "d6a14c0d",
   "metadata": {},
   "outputs": [
    {
     "name": "stdout",
     "output_type": "stream",
     "text": [
      "+--------------------------+------------+--------------+-----+\n",
      "|flights_dep_delay_category|flights_dest|flights_origin|count|\n",
      "+--------------------------+------------+--------------+-----+\n",
      "|                     MINOR|         SFO|           SEA|  159|\n",
      "|                     MINOR|         DEN|           SEA|  145|\n",
      "|                     MINOR|         ANC|           SEA|  145|\n",
      "|                     MINOR|         LAX|           SEA|  118|\n",
      "|                     MINOR|         LAS|           SEA|  114|\n",
      "+--------------------------+------------+--------------+-----+\n",
      "only showing top 5 rows\n",
      "\n"
     ]
    }
   ],
   "source": [
    "df2.where(df2.flights_dep_delay_category != 'ANTECIPATED').groupBy('flights_dep_delay_category', 'flights_dest', 'flights_origin').count().sort('count', ascending = False).show(5)"
   ]
  },
  {
   "cell_type": "code",
   "execution_count": null,
   "id": "99c992f2",
   "metadata": {},
   "outputs": [],
   "source": []
  }
 ],
 "metadata": {
  "kernelspec": {
   "display_name": "Python 3 (ipykernel)",
   "language": "python",
   "name": "python3"
  },
  "language_info": {
   "codemirror_mode": {
    "name": "ipython",
    "version": 3
   },
   "file_extension": ".py",
   "mimetype": "text/x-python",
   "name": "python",
   "nbconvert_exporter": "python",
   "pygments_lexer": "ipython3",
   "version": "3.9.7"
  }
 },
 "nbformat": 4,
 "nbformat_minor": 5
}
